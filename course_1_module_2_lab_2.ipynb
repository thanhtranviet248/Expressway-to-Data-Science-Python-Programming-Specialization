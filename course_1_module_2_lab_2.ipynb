{
 "cells": [
  {
   "cell_type": "markdown",
   "id": "0f295232-a544-4e2f-9fae-0d7ad60b49c8",
   "metadata": {},
   "source": [
    "# Arithmetic Operation"
   ]
  },
  {
   "cell_type": "code",
   "execution_count": 2,
   "id": "49fd87c2-b4b9-4a3e-a2c5-f796dd72347c",
   "metadata": {},
   "outputs": [
    {
     "name": "stdout",
     "output_type": "stream",
     "text": [
      "\n",
      "x + y = 5, \n",
      "x - y = -1, \n",
      "x * y = 6, \n",
      "x / y = 0.6666666666666666, \n",
      "x // y = 0, \n",
      "x ** y = 8, \n",
      "x % y = 2\n"
     ]
    }
   ],
   "source": [
    "x = 2\n",
    "y = 3\n",
    "print(f'''\n",
    "x + y = {x+y}, \n",
    "x - y = {x-y}, \n",
    "x * y = {x*y}, \n",
    "x / y = {x/y}, \n",
    "x // y = {x//y}, \n",
    "x ** y = {x**y}, \n",
    "x % y = {x %y}''')"
   ]
  },
  {
   "cell_type": "markdown",
   "id": "1665f77a-f95a-4aeb-a162-84795aa2efbe",
   "metadata": {},
   "source": [
    "# Get Inputs from Users"
   ]
  },
  {
   "cell_type": "code",
   "execution_count": 4,
   "id": "870f2c79-072a-41d0-9b3a-e8d370385e76",
   "metadata": {},
   "outputs": [
    {
     "name": "stdin",
     "output_type": "stream",
     "text": [
      "x and y are? Note: Input integers, split by comma 2,3\n"
     ]
    },
    {
     "name": "stdout",
     "output_type": "stream",
     "text": [
      "\n",
      "x + y = 5, \n",
      "x - y = -1, \n",
      "x * y = 6, \n",
      "x / y = 0.6666666666666666, \n",
      "x // y = 0, \n",
      "x ** y = 8, \n",
      "x % y = 2\n"
     ]
    }
   ],
   "source": [
    "x, y = input('''x and y are? Note: Input integers, split by comma''').split(',')\n",
    "x, y = int(x), int(y)\n",
    "print(f'''\n",
    "x + y = {x+y}, \n",
    "x - y = {x-y}, \n",
    "x * y = {x*y}, \n",
    "x / y = {x/y}, \n",
    "x // y = {x//y}, \n",
    "x ** y = {x**y}, \n",
    "x % y = {x %y}''')"
   ]
  }
 ],
 "metadata": {
  "kernelspec": {
   "display_name": "Python 3 (ipykernel)",
   "language": "python",
   "name": "python3"
  },
  "language_info": {
   "codemirror_mode": {
    "name": "ipython",
    "version": 3
   },
   "file_extension": ".py",
   "mimetype": "text/x-python",
   "name": "python",
   "nbconvert_exporter": "python",
   "pygments_lexer": "ipython3",
   "version": "3.11.7"
  }
 },
 "nbformat": 4,
 "nbformat_minor": 5
}
