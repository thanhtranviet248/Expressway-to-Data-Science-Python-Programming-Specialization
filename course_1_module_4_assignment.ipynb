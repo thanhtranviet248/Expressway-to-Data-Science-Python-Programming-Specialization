{
 "cells": [
  {
   "cell_type": "markdown",
   "id": "8d17b41b-d03a-4e36-bd79-2996df5d42ff",
   "metadata": {},
   "source": [
    "# Prime Numbers"
   ]
  },
  {
   "cell_type": "code",
   "execution_count": 2,
   "id": "29382298-6b08-46c4-84b3-5d0affe8faf0",
   "metadata": {},
   "outputs": [
    {
     "name": "stdin",
     "output_type": "stream",
     "text": [
      "please input an integer 20\n"
     ]
    },
    {
     "name": "stdout",
     "output_type": "stream",
     "text": [
      "1\n",
      "2\n",
      "3\n",
      "5\n",
      "7\n",
      "11\n",
      "13\n",
      "17\n",
      "19\n"
     ]
    }
   ],
   "source": [
    "n = int(input('please input an integer'))\n",
    "for i in range(1,n+1):\n",
    "    prime_check = True\n",
    "    for j in range(2, i):\n",
    "        if i % j == 0:\n",
    "            prime_check = False\n",
    "            break\n",
    "    if prime_check == True:\n",
    "        print(i)"
   ]
  },
  {
   "cell_type": "markdown",
   "id": "2b643c9e-e759-48e1-a176-5ce4457dd423",
   "metadata": {},
   "source": [
    "# Binary Converter"
   ]
  },
  {
   "cell_type": "code",
   "execution_count": 4,
   "id": "ac35cc62-c7b9-4acb-9529-10c6eef7507c",
   "metadata": {},
   "outputs": [
    {
     "name": "stdin",
     "output_type": "stream",
     "text": [
      "Enter a positive integer 20\n"
     ]
    },
    {
     "name": "stdout",
     "output_type": "stream",
     "text": [
      "10100\n"
     ]
    }
   ],
   "source": [
    "n = int(input('Enter a positive integer'))\n",
    "bin = ''\n",
    "while n > 0:\n",
    " reminder = n % 2\n",
    " bin = str(reminder) + bin\n",
    " n = n // 2\n",
    "print(bin)"
   ]
  },
  {
   "cell_type": "markdown",
   "id": "d714434e-2d68-4bb0-a1a1-9c4808efc07d",
   "metadata": {},
   "source": [
    "# A Simple Grade Book"
   ]
  },
  {
   "cell_type": "code",
   "execution_count": 6,
   "id": "f060ace3-136c-4cef-ad7f-177f34bb0ffc",
   "metadata": {},
   "outputs": [
    {
     "name": "stdin",
     "output_type": "stream",
     "text": [
      "# of students 10\n",
      "grade of student from 0 to 100 2\n",
      "grade of student from 0 to 100 4\n",
      "grade of student from 0 to 100 5\n",
      "grade of student from 0 to 100 3\n",
      "grade of student from 0 to 100 4\n",
      "grade of student from 0 to 100 5\n",
      "grade of student from 0 to 100 6\n",
      "grade of student from 0 to 100 7\n",
      "grade of student from 0 to 100 1\n",
      "grade of student from 0 to 100 3\n"
     ]
    },
    {
     "name": "stdout",
     "output_type": "stream",
     "text": [
      "avg grade is 4.0\n",
      "min is 1\n",
      "max is 7\n"
     ]
    }
   ],
   "source": [
    "n = int(input('# of students'))\n",
    "min = 100\n",
    "max = 0\n",
    "total = 0\n",
    "\n",
    "for i in range(n):\n",
    "    grade = int(input('grade of student from 0 to 100'))\n",
    "    total += grade\n",
    "    if grade < min:\n",
    "        min = grade\n",
    "    if grade > max:\n",
    "        max = grade\n",
    "        \n",
    "print(f'avg grade is {total/n}')\n",
    "print(f'min is {min}')\n",
    "print(f'max is {max}')"
   ]
  },
  {
   "cell_type": "markdown",
   "id": "d0acbf76-fe04-4337-b1a0-b12a179c167d",
   "metadata": {},
   "source": [
    "# Fahrenheit to Celcius Converter"
   ]
  },
  {
   "cell_type": "code",
   "execution_count": 8,
   "id": "7d4cfb5a-266e-4d91-8cdb-996e2a720a0d",
   "metadata": {},
   "outputs": [
    {
     "name": "stdin",
     "output_type": "stream",
     "text": [
      "Enter the Fahrenheit (enter stop to quit):  10\n"
     ]
    },
    {
     "name": "stdout",
     "output_type": "stream",
     "text": [
      "Celcius is -12.222222222222221\n"
     ]
    },
    {
     "name": "stdin",
     "output_type": "stream",
     "text": [
      "Enter the Fahrenheit (enter stop to quit):  20\n"
     ]
    },
    {
     "name": "stdout",
     "output_type": "stream",
     "text": [
      "Celcius is -6.666666666666667\n"
     ]
    },
    {
     "name": "stdin",
     "output_type": "stream",
     "text": [
      "Enter the Fahrenheit (enter stop to quit):  30\n"
     ]
    },
    {
     "name": "stdout",
     "output_type": "stream",
     "text": [
      "Celcius is -1.1111111111111112\n"
     ]
    },
    {
     "name": "stdin",
     "output_type": "stream",
     "text": [
      "Enter the Fahrenheit (enter stop to quit):  stop\n"
     ]
    }
   ],
   "source": [
    "f = input('Enter the Fahrenheit (enter stop to quit): ')\n",
    "while f != 'stop':\n",
    " f = float(f)\n",
    " c = (f - 32) * 5 / 9\n",
    " print('Celcius is', c)\n",
    " f = input('Enter the Fahrenheit (enter stop to quit): ')"
   ]
  },
  {
   "cell_type": "markdown",
   "id": "8a350a5f-afbf-4b0f-af59-d4b301550f24",
   "metadata": {},
   "source": [
    "# How many E and e in a sentence?"
   ]
  },
  {
   "cell_type": "code",
   "execution_count": 10,
   "id": "f4e181fe-b4fc-4345-a639-6d06a8ba9c69",
   "metadata": {},
   "outputs": [
    {
     "name": "stdin",
     "output_type": "stream",
     "text": [
      "Enter a sentence:  Hello my name is ThanhE\n"
     ]
    },
    {
     "name": "stdout",
     "output_type": "stream",
     "text": [
      "Number of e: 2 . Number of E:  1\n"
     ]
    }
   ],
   "source": [
    "sentence = input('Enter a sentence: ')\n",
    "number_e = 0\n",
    "number_E = 0\n",
    "for c in sentence:\n",
    "    if c == 'e':\n",
    "         number_e += 1\n",
    "    elif c == 'E':\n",
    "         number_E += 1\n",
    "print('Number of e:', number_e, '. Number of E: ', number_E)"
   ]
  }
 ],
 "metadata": {
  "kernelspec": {
   "display_name": "Python 3 (ipykernel)",
   "language": "python",
   "name": "python3"
  },
  "language_info": {
   "codemirror_mode": {
    "name": "ipython",
    "version": 3
   },
   "file_extension": ".py",
   "mimetype": "text/x-python",
   "name": "python",
   "nbconvert_exporter": "python",
   "pygments_lexer": "ipython3",
   "version": "3.11.7"
  }
 },
 "nbformat": 4,
 "nbformat_minor": 5
}
