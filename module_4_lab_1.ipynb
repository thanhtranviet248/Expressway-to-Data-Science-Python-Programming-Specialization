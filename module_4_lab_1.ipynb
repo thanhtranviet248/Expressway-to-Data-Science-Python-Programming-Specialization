{
 "cells": [
  {
   "cell_type": "code",
   "execution_count": 1,
   "id": "3196826d-f0c9-4499-b025-2dadc5a57fad",
   "metadata": {},
   "outputs": [
    {
     "name": "stdout",
     "output_type": "stream",
     "text": [
      "-5\n",
      "-4\n",
      "-3\n",
      "-2\n",
      "-1\n",
      "0\n",
      "1\n",
      "2\n",
      "3\n",
      "4\n",
      "5\n"
     ]
    }
   ],
   "source": [
    "x = -5\n",
    "while x <= 5:\n",
    "    print(x)\n",
    "    x += 1"
   ]
  },
  {
   "cell_type": "code",
   "execution_count": 2,
   "id": "c42793fa-7f1b-41a2-a05f-17be99503b17",
   "metadata": {},
   "outputs": [
    {
     "name": "stdout",
     "output_type": "stream",
     "text": [
      "-5\n",
      "-4\n",
      "-3\n",
      "-2\n",
      "-1\n",
      "0\n",
      "1\n",
      "2\n",
      "3\n",
      "4\n",
      "5\n"
     ]
    }
   ],
   "source": [
    "def print_integer(start=-5,stop=5):\n",
    "    while start <= stop:\n",
    "        print(start)\n",
    "        start += 1\n",
    "print_integer()"
   ]
  },
  {
   "cell_type": "code",
   "execution_count": 3,
   "id": "52dc74a9-46c1-4794-bed6-31fda433d585",
   "metadata": {},
   "outputs": [
    {
     "name": "stdout",
     "output_type": "stream",
     "text": [
      "1\n",
      "2\n",
      "4\n",
      "8\n",
      "16\n",
      "32\n",
      "64\n",
      "128\n",
      "256\n",
      "512\n",
      "1024\n",
      "2048\n",
      "4096\n",
      "8192\n",
      "16384\n",
      "32768\n",
      "65536\n",
      "131072\n",
      "262144\n",
      "524288\n"
     ]
    }
   ],
   "source": [
    "def multiply_integer(start=1,stop=1000000):\n",
    "    while start <= stop:\n",
    "        print(start)\n",
    "        start *= 2\n",
    "multiply_integer()"
   ]
  },
  {
   "cell_type": "code",
   "execution_count": 4,
   "id": "bbb20f3f-2f76-4080-ac1a-10e9d5b18892",
   "metadata": {},
   "outputs": [
    {
     "name": "stdin",
     "output_type": "stream",
     "text": [
      "input anything:  okay\n",
      "input anything:  bye\n",
      "input anything:  alo alo\n",
      "input anything:  Done\n"
     ]
    },
    {
     "name": "stdout",
     "output_type": "stream",
     "text": [
      "tks i have enough\n"
     ]
    }
   ],
   "source": [
    "text = ''\n",
    "while text != 'Done':\n",
    "    text = input('input anything: ')\n",
    "    if text == 'Done':\n",
    "        print('tks i have enough')"
   ]
  },
  {
   "cell_type": "code",
   "execution_count": 5,
   "id": "01911c0a-b7fa-4399-8665-06ff3f6ee0bc",
   "metadata": {},
   "outputs": [
    {
     "name": "stdin",
     "output_type": "stream",
     "text": [
      "enter new password thanhtran123\n",
      "enter new password again thanhtran1123\n",
      "enter new password thanhtran123\n",
      "enter new password again thanhtran123\n"
     ]
    },
    {
     "name": "stdout",
     "output_type": "stream",
     "text": [
      "it's okay now\n"
     ]
    }
   ],
   "source": [
    "pass1, pass2 = 'a', 'b'\n",
    "while pass1 != pass2:\n",
    "    pass1 = input('enter new password')\n",
    "    pass2 = input('enter new password again')\n",
    "    if pass1 == pass2:\n",
    "        print('it\\'s okay now')"
   ]
  }
 ],
 "metadata": {
  "kernelspec": {
   "display_name": "Python 3 (ipykernel)",
   "language": "python",
   "name": "python3"
  },
  "language_info": {
   "codemirror_mode": {
    "name": "ipython",
    "version": 3
   },
   "file_extension": ".py",
   "mimetype": "text/x-python",
   "name": "python",
   "nbconvert_exporter": "python",
   "pygments_lexer": "ipython3",
   "version": "3.11.7"
  }
 },
 "nbformat": 4,
 "nbformat_minor": 5
}
