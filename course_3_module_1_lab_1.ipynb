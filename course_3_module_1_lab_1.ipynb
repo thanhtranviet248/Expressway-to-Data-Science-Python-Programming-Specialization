{
 "cells": [
  {
   "cell_type": "markdown",
   "metadata": {
    "id": "fe7l2Vy92BWu"
   },
   "source": [
    "# Welcome to our Lab practice!\n",
    "\n",
    "This lab is all about the package, random. Are you ready? Let's go!\n",
    "\n",
    "You will find some small tasks in sections below. \n",
    "\n",
    "> Try to figure out by yourself, or search for references. Being able to search and find information needed is an important skill that benefits you and your career for a long time.\n",
    "\n",
    "\n",
    "\n"
   ]
  },
  {
   "cell_type": "markdown",
   "metadata": {
    "id": "TTElGHtF2N7g"
   },
   "source": [
    "## Random Int"
   ]
  },
  {
   "cell_type": "markdown",
   "metadata": {
    "id": "0CtQu71C3PP8"
   },
   "source": [
    "### Task: Generate a random positive integer less than 10. "
   ]
  },
  {
   "cell_type": "code",
   "execution_count": 4,
   "metadata": {
    "id": "n7qiruks8HZ5"
   },
   "outputs": [
    {
     "name": "stdout",
     "output_type": "stream",
     "text": [
      "4\n"
     ]
    }
   ],
   "source": [
    "import random as rd\n",
    "\n",
    "a = rd.randint(0,9)\n",
    "\n",
    "print(a)"
   ]
  },
  {
   "cell_type": "markdown",
   "metadata": {
    "id": "3FK5QxBO3dqS"
   },
   "source": [
    "### Task: Generate a random integer within 0 (inclusive) and 100 (inclusive)"
   ]
  },
  {
   "cell_type": "code",
   "execution_count": 6,
   "metadata": {
    "id": "w-XimSI88J1J"
   },
   "outputs": [
    {
     "name": "stdout",
     "output_type": "stream",
     "text": [
      "33\n"
     ]
    }
   ],
   "source": [
    "b = rd.randint(0,100)\n",
    "print(b)"
   ]
  },
  {
   "cell_type": "markdown",
   "metadata": {
    "id": "42rLKWbe3l8m"
   },
   "source": [
    "### Task: Generate a random integer within a and b, where a and b are user entered integers and a $<=$ b"
   ]
  },
  {
   "cell_type": "code",
   "execution_count": 8,
   "metadata": {
    "id": "ExbcAYLk8LYI"
   },
   "outputs": [],
   "source": [
    "def rd_trigger():\n",
    "    while True:\n",
    "        check = input('start the programme Y/N')\n",
    "        if check == 'Y':\n",
    "            a = int(input('input a'))\n",
    "            b = int(input('input b'))\n",
    "            if a > b:\n",
    "                return('wrong input, a must less and equal than b')\n",
    "            else:\n",
    "                print(rd.randint(a,b))\n",
    "                continue\n",
    "        else:\n",
    "            print('end of programme')\n",
    "            break"
   ]
  },
  {
   "cell_type": "code",
   "execution_count": 9,
   "metadata": {},
   "outputs": [
    {
     "name": "stdin",
     "output_type": "stream",
     "text": [
      "start the programme Y/N Y\n",
      "input a 1\n",
      "input b 10\n"
     ]
    },
    {
     "name": "stdout",
     "output_type": "stream",
     "text": [
      "9\n"
     ]
    },
    {
     "name": "stdin",
     "output_type": "stream",
     "text": [
      "start the programme Y/N N\n"
     ]
    },
    {
     "name": "stdout",
     "output_type": "stream",
     "text": [
      "end of programme\n"
     ]
    }
   ],
   "source": [
    "rd_trigger()"
   ]
  },
  {
   "cell_type": "markdown",
   "metadata": {
    "id": "1ut5x4Zl2RVu"
   },
   "source": [
    "## Random Float"
   ]
  },
  {
   "cell_type": "markdown",
   "metadata": {
    "id": "dGUiTYKM4XTF"
   },
   "source": [
    "### Task: Generate a random float number between 0 and 1\n",
    "> hint: use random()"
   ]
  },
  {
   "cell_type": "code",
   "execution_count": 12,
   "metadata": {
    "id": "MQ9sEgvL8Mph"
   },
   "outputs": [
    {
     "name": "stdout",
     "output_type": "stream",
     "text": [
      "0.7539856483359717\n"
     ]
    }
   ],
   "source": [
    "n = rd.random()\n",
    "print(n)"
   ]
  },
  {
   "cell_type": "markdown",
   "metadata": {
    "id": "VYkj8Sni5SLY"
   },
   "source": [
    "### Task: Generate a random float number between 0 and 10.\n",
    "> hint: use uniform()"
   ]
  },
  {
   "cell_type": "code",
   "execution_count": 14,
   "metadata": {
    "id": "ezJbefBc8NSc"
   },
   "outputs": [
    {
     "name": "stdout",
     "output_type": "stream",
     "text": [
      "9.937972478185687\n"
     ]
    }
   ],
   "source": [
    "n = rd.uniform(0,10)\n",
    "print(n)"
   ]
  },
  {
   "cell_type": "markdown",
   "metadata": {
    "id": "-BEsJESu4hx0"
   },
   "source": [
    "### Task: Generate a random float number between 5 and 10\n",
    ">hint: use uniform()"
   ]
  },
  {
   "cell_type": "code",
   "execution_count": 16,
   "metadata": {
    "id": "GqsoQylO8Nz4"
   },
   "outputs": [
    {
     "name": "stdout",
     "output_type": "stream",
     "text": [
      "5.7933738681114475\n"
     ]
    }
   ],
   "source": [
    "n = rd.uniform(5,10)\n",
    "print(n)"
   ]
  },
  {
   "cell_type": "markdown",
   "metadata": {
    "id": "hi4_PetZ4oJk"
   },
   "source": [
    "### Task: Generate a random float number based on the Gaussian distribution\n",
    "> hint: search and learn gauss()"
   ]
  },
  {
   "cell_type": "code",
   "execution_count": 18,
   "metadata": {
    "id": "Iwz0Ljxs8OqA"
   },
   "outputs": [
    {
     "data": {
      "text/plain": [
       "1.762425140066901"
      ]
     },
     "execution_count": 18,
     "metadata": {},
     "output_type": "execute_result"
    }
   ],
   "source": [
    "n = rd.gauss(0,1)\n",
    "n"
   ]
  },
  {
   "cell_type": "markdown",
   "metadata": {
    "id": "WYQEAas1TGrt"
   },
   "source": [
    "## Random Datasets\n",
    "\n",
    "### Genearte a list of 1000 random floats within 0 and 1."
   ]
  },
  {
   "cell_type": "code",
   "execution_count": 20,
   "metadata": {
    "id": "yTk4pwujTElz"
   },
   "outputs": [
    {
     "name": "stdout",
     "output_type": "stream",
     "text": [
      "[0.0802119428682595, 0.5742630202234517, 0.36544155724664906, 0.1397230553765587, 0.7504635455416003, 0.8536062748383842, 0.24918606894702322, 0.6601652594599735, 0.8180280221430255, 0.7740578293180405, 0.53128401005536, 0.16411089105746124, 0.40813857817728605, 0.5568289103221465, 0.4833470008837377, 0.7908160071602596, 0.7193998911368317, 0.24518250476960102, 0.08547469792049123, 0.5591723292541194, 0.6435162715638135, 0.5039370347173836, 0.5102324400099004, 0.15136148638384272, 0.9711972070632574, 0.021997865287783913, 0.5319422514887113, 0.32097759786877833, 0.38444137446939897, 0.9399942970007668, 0.721706908920611, 0.9972215337935572, 0.7843050398938773, 0.06675377623526313, 0.39765745371485217, 0.04350514864496924, 0.8434077767439168, 0.17127750845405665, 0.37282235139921704, 0.8794344866162478, 0.34000228794483434, 0.4907422035069593, 0.6663989564925699, 0.9269531546464876, 0.33980158967580154, 0.17341440544378917, 0.7831996573769785, 0.5459414795917581, 0.6560676372775145, 0.06963656004612662, 0.6780069801886852, 0.8800621913689823, 0.15414681329765467, 0.3553086094247091, 0.827514109888224, 0.9020891286177475, 0.47698133664604725, 0.2705865824323178, 0.576924751559095, 0.7312701607800844, 0.49968495193123097, 0.6054014221877563, 0.18428193485995448, 0.8450551709019057, 0.774262356701711, 0.14334871525975734, 0.7301717320648775, 0.21639779702331008, 0.05649857092213528, 0.430424801460761, 0.4795490090057296, 0.5079089736574134, 0.7808534601648065, 0.26877558067535867, 0.45000792630906317, 0.5470595114500496, 0.5021786694735698, 0.9334866233823198, 0.8191597270464389, 0.46784421535341725, 0.37138380462869036, 0.18184626316231056, 0.4570797470522968, 0.8021027332539803, 0.8780900369470249, 0.14099475712868692, 0.596619104878482, 0.11508449344398552, 0.5972401522267381, 0.10556349085732397, 0.6275978725994861, 0.30397906096848903, 0.7591980717674413, 0.6468972918517298, 0.06410392365169593, 0.9741431725785379, 0.656641986361567, 0.6297263721035827, 0.7596562365343045, 0.6221861685668374]\n"
     ]
    }
   ],
   "source": [
    "list = []\n",
    "for i in range(1000):\n",
    "    list.append(rd.random())\n",
    "print(list[0:100])"
   ]
  },
  {
   "cell_type": "markdown",
   "metadata": {
    "id": "Ngk3kk8pTVcy"
   },
   "source": [
    "### Generate a list of 1000 random integers within 0 and 1."
   ]
  },
  {
   "cell_type": "code",
   "execution_count": 22,
   "metadata": {
    "id": "q0UMrIi6TU_b"
   },
   "outputs": [
    {
     "name": "stdout",
     "output_type": "stream",
     "text": [
      "[0, 0, 0, 1, 0, 0, 0, 1, 1, 0, 1, 1, 1, 1, 0, 1, 0, 0, 1, 0, 0, 1, 0, 0, 1, 1, 1, 0, 0, 0, 1, 0, 0, 1, 1, 1, 1, 1, 0, 0, 0, 0, 0, 0, 1, 1, 0, 1, 1, 1, 1, 0, 0, 1, 0, 1, 1, 1, 1, 1, 1, 1, 0, 1, 1, 1, 0, 0, 0, 1, 1, 1, 1, 1, 0, 0, 0, 1, 1, 0, 1, 1, 1, 0, 0, 0, 0, 0, 1, 0, 0, 0, 0, 1, 0, 0, 1, 0, 1, 1]\n"
     ]
    }
   ],
   "source": [
    "list = []\n",
    "for i in range(1000):\n",
    "    list.append(rd.randint(0,1))\n",
    "print(list[0:100])"
   ]
  },
  {
   "cell_type": "markdown",
   "metadata": {
    "id": "mI2RdvrJTwc7"
   },
   "source": [
    "### Generate a list of 1000 numbers following normal distribution with 10 as mean, and 1 as standard derivation."
   ]
  },
  {
   "cell_type": "code",
   "execution_count": 24,
   "metadata": {
    "id": "J5QlBi6UT6Mp"
   },
   "outputs": [
    {
     "name": "stdout",
     "output_type": "stream",
     "text": [
      "[11.824018511060181, 9.314384669221072, 8.803250972066005, 10.892933464192843, 11.377671952469537, 8.942591292737676, 9.124435621801524, 9.851104762351419, 10.401576893732305, 9.74729095159771, 9.541412107374349, 10.016777803311268, 7.879649970192055, 9.654313534473632, 10.428024643881542, 10.70522673338569, 10.119253951253974, 8.842176107062032, 12.039644530098114, 10.092703764125783, 10.048480632851168, 11.833354446740893, 9.425693405641699, 9.275165088543591, 9.42530731791181, 10.132460264931815, 10.783913435669, 8.963847554650833, 10.748091296988363, 9.428848167052552, 8.634365349941007, 10.0677445722652, 9.402824873554753, 8.710475871047695, 9.673500737376425, 8.24157953460547, 9.958201845178513, 9.592230179020179, 10.197970145831908, 12.742593712455186, 10.994828746228434, 10.133430333592116, 10.945843384066738, 9.916292682826334, 10.480280803070519, 10.053069333346965, 11.430984779286838, 9.603079204026082, 9.671691784770484, 8.70680649021334, 9.887127868949504, 11.6133157527568, 8.780352102007429, 9.592791719414405, 11.24868434330797, 9.954831432816782, 9.912833143588363, 8.193127947727737, 9.340554510309207, 8.984446808000978, 10.116246194220302, 11.650851608708946, 11.673192004861189, 11.463043828188125, 10.267014727400287, 10.247658850214668, 10.292097930786817, 8.608715058257504, 7.806727370710116, 9.355748672699278, 9.930050838280497, 10.599723836014501, 10.119349109800543, 9.660218670301463, 11.312803580718029, 9.824260333878257, 9.632972897047885, 8.930385286508745, 8.257687869323396, 9.612031077572583, 10.837316503793385, 12.006195240615611, 10.551462527366903, 8.51850066814473, 8.97596326989465, 9.321766357356623, 9.913306684130688, 9.995853149331007, 9.365613190619824, 9.499661190721188, 8.596056899121049, 8.695139129582625, 9.329453583727904, 10.22287817614941, 11.282224185037373, 10.561221511569792, 10.940237015182717, 9.665384603812754, 10.30402901129241, 9.596673649795155]\n"
     ]
    }
   ],
   "source": [
    "list = []\n",
    "for i in range(1000):\n",
    "    list.append(rd.gauss(10,1))\n",
    "print(list[0:100])\n",
    "\n",
    "list = []\n",
    "for i in range(1000):\n",
    "  list.append(rd.normalvariate(10, 1))"
   ]
  },
  {
   "cell_type": "markdown",
   "metadata": {
    "id": "UOtTtRQK2WA9"
   },
   "source": [
    "## Explore random module\n",
    "\n",
    "random module has many other functions besides random(), randint(), and the ones we have used above. Please search and explore by yourself -- this is a skill more important than learning materials presented to you. In your future career, you will have to explore unknown, and learn new skills, all the time."
   ]
  },
  {
   "cell_type": "code",
   "execution_count": 26,
   "metadata": {
    "id": "WvrV6pOOgnJp"
   },
   "outputs": [
    {
     "data": {
      "text/plain": [
       "3"
      ]
     },
     "execution_count": 26,
     "metadata": {},
     "output_type": "execute_result"
    }
   ],
   "source": [
    "n = rd.randrange(start=0, stop=10)\n",
    "n"
   ]
  },
  {
   "cell_type": "markdown",
   "metadata": {
    "id": "GPn4oz6p7NnL"
   },
   "source": [
    "## Explore math module\n",
    "\n",
    "math module is another interesting and useful module to help you deal with math. Explore and learn by yourself."
   ]
  },
  {
   "cell_type": "code",
   "execution_count": 28,
   "metadata": {
    "id": "3_N2Nz_ignsJ"
   },
   "outputs": [],
   "source": [
    "import math"
   ]
  },
  {
   "cell_type": "code",
   "execution_count": 29,
   "metadata": {},
   "outputs": [
    {
     "data": {
      "text/plain": [
       "4.0"
      ]
     },
     "execution_count": 29,
     "metadata": {},
     "output_type": "execute_result"
    }
   ],
   "source": [
    "n = math.sqrt(16)\n",
    "n"
   ]
  }
 ],
 "metadata": {
  "colab": {
   "authorship_tag": "ABX9TyPUIwEGS8Ac+Bno7MW8KshU",
   "collapsed_sections": [],
   "name": "M1Lab-Random.ipynb",
   "provenance": [],
   "toc_visible": true
  },
  "kernelspec": {
   "display_name": "Python 3 (ipykernel)",
   "language": "python",
   "name": "python3"
  },
  "language_info": {
   "codemirror_mode": {
    "name": "ipython",
    "version": 3
   },
   "file_extension": ".py",
   "mimetype": "text/x-python",
   "name": "python",
   "nbconvert_exporter": "python",
   "pygments_lexer": "ipython3",
   "version": "3.11.7"
  }
 },
 "nbformat": 4,
 "nbformat_minor": 4
}
