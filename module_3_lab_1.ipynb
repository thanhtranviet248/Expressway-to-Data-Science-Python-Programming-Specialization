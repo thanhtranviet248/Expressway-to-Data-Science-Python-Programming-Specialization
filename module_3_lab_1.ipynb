{
 "cells": [
  {
   "cell_type": "code",
   "execution_count": 22,
   "id": "d66e6705-0fbd-45ad-95a6-deed9a8c49d6",
   "metadata": {},
   "outputs": [
    {
     "name": "stdin",
     "output_type": "stream",
     "text": [
      "please input an integer 10\n"
     ]
    }
   ],
   "source": [
    "x = int(input('please input an integer'))"
   ]
  },
  {
   "cell_type": "code",
   "execution_count": 24,
   "id": "c7a6121b-de11-4590-9260-c00104cf722f",
   "metadata": {},
   "outputs": [],
   "source": [
    "def check_even(x):\n",
    "    if x%2 == 0:\n",
    "        print('the input integer is even')\n",
    "    else:\n",
    "        print('the input integer is odd')"
   ]
  },
  {
   "cell_type": "code",
   "execution_count": 26,
   "id": "dfc5c2bc-b331-4044-afb4-6dffc93fb872",
   "metadata": {},
   "outputs": [
    {
     "name": "stdout",
     "output_type": "stream",
     "text": [
      "the input integer is even\n"
     ]
    }
   ],
   "source": [
    "check_even(x)"
   ]
  },
  {
   "cell_type": "code",
   "execution_count": 28,
   "id": "fb15e41a-88e7-4838-81a5-5285a4d68fc8",
   "metadata": {},
   "outputs": [],
   "source": [
    "def check_divisible_by_6(x):\n",
    "    if x%6 == 0:\n",
    "        print('the input integer is divisible by 6')\n",
    "    else:\n",
    "        print('the input integer is not divisible by 6')"
   ]
  },
  {
   "cell_type": "code",
   "execution_count": 30,
   "id": "c871417f-03cf-4b18-b1e5-4ca3caac8dcc",
   "metadata": {},
   "outputs": [
    {
     "name": "stdout",
     "output_type": "stream",
     "text": [
      "the input integer is not divisible by 6\n"
     ]
    }
   ],
   "source": [
    "check_divisible_by_6(x)"
   ]
  },
  {
   "cell_type": "code",
   "execution_count": 40,
   "id": "e5d72b71-dca2-4586-a1ef-fbfcda3cc0a3",
   "metadata": {},
   "outputs": [],
   "source": [
    "def stop_input(y):\n",
    "    if y == 'STOP':\n",
    "        print('Bye')\n",
    "    else:\n",
    "        print('Haha')"
   ]
  },
  {
   "cell_type": "code",
   "execution_count": 36,
   "id": "b0603b83-764e-41c3-8bd9-35244c6fd8bf",
   "metadata": {},
   "outputs": [
    {
     "name": "stdin",
     "output_type": "stream",
     "text": [
      "please input the text STOP\n"
     ]
    }
   ],
   "source": [
    "y = input('please input the text')"
   ]
  },
  {
   "cell_type": "code",
   "execution_count": 42,
   "id": "9f276294-0f94-4246-9486-c58afff7e670",
   "metadata": {},
   "outputs": [
    {
     "name": "stdout",
     "output_type": "stream",
     "text": [
      "Bye\n"
     ]
    }
   ],
   "source": [
    "stop_input(y)"
   ]
  },
  {
   "cell_type": "code",
   "execution_count": 44,
   "id": "67265ed7-e34d-4e8e-86b0-3530932c9020",
   "metadata": {},
   "outputs": [],
   "source": [
    "def setup_password(input_text, password):\n",
    "    if input_text == password:\n",
    "        print('Successfully access')\n",
    "    else:\n",
    "        print('Wrong password')"
   ]
  },
  {
   "cell_type": "code",
   "execution_count": 46,
   "id": "d3b66280-3231-44c5-94e4-99096b9bd794",
   "metadata": {},
   "outputs": [],
   "source": [
    "password = '123456'"
   ]
  },
  {
   "cell_type": "code",
   "execution_count": 48,
   "id": "df42ad87-1c6f-43be-8330-665b6527be07",
   "metadata": {},
   "outputs": [
    {
     "name": "stdin",
     "output_type": "stream",
     "text": [
      "please enter the password 123456\n"
     ]
    }
   ],
   "source": [
    "input_text = input('please enter the password')"
   ]
  },
  {
   "cell_type": "code",
   "execution_count": 50,
   "id": "a6c29dd0-0a78-495c-bf47-1417266d78f1",
   "metadata": {},
   "outputs": [
    {
     "name": "stdout",
     "output_type": "stream",
     "text": [
      "Successfully access\n"
     ]
    }
   ],
   "source": [
    "setup_password(input_text, password)"
   ]
  }
 ],
 "metadata": {
  "kernelspec": {
   "display_name": "Python 3 (ipykernel)",
   "language": "python",
   "name": "python3"
  },
  "language_info": {
   "codemirror_mode": {
    "name": "ipython",
    "version": 3
   },
   "file_extension": ".py",
   "mimetype": "text/x-python",
   "name": "python",
   "nbconvert_exporter": "python",
   "pygments_lexer": "ipython3",
   "version": "3.11.7"
  }
 },
 "nbformat": 4,
 "nbformat_minor": 5
}
