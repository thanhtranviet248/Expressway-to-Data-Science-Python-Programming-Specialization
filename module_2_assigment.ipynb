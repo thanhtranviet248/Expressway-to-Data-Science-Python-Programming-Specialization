{
 "cells": [
  {
   "cell_type": "markdown",
   "id": "ad5acea8-b918-4c79-a122-a1544d42e2fe",
   "metadata": {},
   "source": [
    "# Simple check out"
   ]
  },
  {
   "cell_type": "code",
   "execution_count": 2,
   "id": "8cb111c3-edab-4da1-a041-62166b2639df",
   "metadata": {},
   "outputs": [
    {
     "name": "stdin",
     "output_type": "stream",
     "text": [
      "Price per unit: 12\n",
      "Product quantity: 3\n"
     ]
    },
    {
     "name": "stdout",
     "output_type": "stream",
     "text": [
      "Total order amount is: 38.25\n"
     ]
    },
    {
     "name": "stdin",
     "output_type": "stream",
     "text": [
      "Bills paid amount: 100\n"
     ]
    },
    {
     "name": "stdout",
     "output_type": "stream",
     "text": [
      "The change is 61.75\n"
     ]
    }
   ],
   "source": [
    "price, qty, tax = float(input(\"Price per unit:\")), int(input(\"Product quantity:\")), 6.25/100\n",
    "total_amt = (price * qty)*(1+tax)\n",
    "print(f'''Total order amount is: {total_amt}''')\n",
    "\n",
    "bills_paid_amt = float(input(\"Bills paid amount:\"))\n",
    "print(f'''The change is {bills_paid_amt - total_amt}''')"
   ]
  },
  {
   "cell_type": "markdown",
   "id": "2b8a622b-1a7d-493f-a468-acda9edcc0d9",
   "metadata": {},
   "source": [
    "# Tips Split"
   ]
  },
  {
   "cell_type": "code",
   "execution_count": 4,
   "id": "9ee49372-aaba-4947-9096-b83bc1cc0b56",
   "metadata": {},
   "outputs": [
    {
     "name": "stdin",
     "output_type": "stream",
     "text": [
      "Total amount of meal before tax: 100\n",
      "Number of people: 5\n"
     ]
    },
    {
     "name": "stdout",
     "output_type": "stream",
     "text": [
      "Total amount due including tax and tip is 124.25\n",
      "Amount that each person should pay is 24.85\n"
     ]
    }
   ],
   "source": [
    "meal_amt, ppl_nbr, tax, tip = float(input(\"Total amount of meal before tax:\")), int(input(\"Number of people:\")), 6.25/100, 18/100\n",
    "print(f'''Total amount due including tax and tip is {meal_amt*(1+tax+tip)}''')\n",
    "print(f'''Amount that each person should pay is {(meal_amt*(1+tax+tip))/ppl_nbr}''')"
   ]
  },
  {
   "cell_type": "markdown",
   "id": "f091fbbc-d769-4a13-80ea-6d7b7124d61e",
   "metadata": {},
   "source": [
    "# Compound Interest"
   ]
  },
  {
   "cell_type": "code",
   "execution_count": 6,
   "id": "d164b39c-89c5-4387-8076-1153d34f7ae1",
   "metadata": {},
   "outputs": [
    {
     "name": "stdin",
     "output_type": "stream",
     "text": [
      "Total saving amount:  100\n",
      "Years of saving:  2\n",
      "Interest rate:  0.05\n"
     ]
    },
    {
     "name": "stdout",
     "output_type": "stream",
     "text": [
      "Due amount after saving 100.0 dollars after 2 years with interest rate of 0.05 is 110.25\n"
     ]
    }
   ],
   "source": [
    "amt, year, rate = float(input(\"Total saving amount: \")), int(input(\"Years of saving: \")), float(input(\"Interest rate: \"))\n",
    "print(f'''Due amount after saving {amt} dollars after {year} years with interest rate of {rate} is {amt*(1+rate)**year}''')"
   ]
  }
 ],
 "metadata": {
  "kernelspec": {
   "display_name": "Python 3 (ipykernel)",
   "language": "python",
   "name": "python3"
  },
  "language_info": {
   "codemirror_mode": {
    "name": "ipython",
    "version": 3
   },
   "file_extension": ".py",
   "mimetype": "text/x-python",
   "name": "python",
   "nbconvert_exporter": "python",
   "pygments_lexer": "ipython3",
   "version": "3.11.7"
  }
 },
 "nbformat": 4,
 "nbformat_minor": 5
}
