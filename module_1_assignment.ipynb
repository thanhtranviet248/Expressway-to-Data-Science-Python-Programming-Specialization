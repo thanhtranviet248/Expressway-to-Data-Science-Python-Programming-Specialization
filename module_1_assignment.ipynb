{
 "cells": [
  {
   "cell_type": "code",
   "execution_count": null,
   "id": "e535b346-52ab-4714-9342-7d575a679972",
   "metadata": {},
   "outputs": [],
   "source": [
    "Dear {receiver's name}E\n",
    "This is {your first name}3 I'm writing to let you know that the weather in {your location} is fantastic!\n",
    "I'm taking Python for Data Science course3 I have coded {#} programs and the expereince was fun! Join\n",
    "me if you are interested!\n",
    "SincerelyF\n",
    "{your full name}\n",
    "{date}"
   ]
  },
  {
   "cell_type": "code",
   "execution_count": null,
   "id": "bc60f8e6-5fd1-4686-b965-92dbb177b7c0",
   "metadata": {},
   "outputs": [
    {
     "name": "stdin",
     "output_type": "stream",
     "text": [
      "receiver's name Phuong\n",
      "your first name Thanh\n",
      "your location Vienna\n",
      "# 3\n",
      "your full name Thanh Tran Viet\n"
     ]
    }
   ],
   "source": [
    "print(f'''\n",
    "Dear {input(\"receiver's name\")},\n",
    "This is {input(\"your first name\")}. I'm writing to let you know that the weather in {input(\"your location\")} is fantastic!\n",
    "I'm taking Python for Data Science course. I have coded {input(\"#\")} programs and the experience was fun! Join me if you are interested!\n",
    "Sincerely,\n",
    "{input(\"your full name\")}\n",
    "{input(\"date\")}\n",
    "''')"
   ]
  },
  {
   "cell_type": "code",
   "execution_count": null,
   "id": "7f6f9153-72c6-4f95-b8eb-2f8346110af6",
   "metadata": {},
   "outputs": [],
   "source": []
  }
 ],
 "metadata": {
  "kernelspec": {
   "display_name": "Python 3 (ipykernel)",
   "language": "python",
   "name": "python3"
  },
  "language_info": {
   "codemirror_mode": {
    "name": "ipython",
    "version": 3
   },
   "file_extension": ".py",
   "mimetype": "text/x-python",
   "name": "python",
   "nbconvert_exporter": "python",
   "pygments_lexer": "ipython3",
   "version": "3.11.7"
  }
 },
 "nbformat": 4,
 "nbformat_minor": 5
}
