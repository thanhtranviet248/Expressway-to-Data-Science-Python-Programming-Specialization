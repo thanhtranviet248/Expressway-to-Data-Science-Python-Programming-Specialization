{
 "cells": [
  {
   "cell_type": "markdown",
   "metadata": {
    "id": "cnAUJprJdh9_"
   },
   "source": [
    "# Welcome to our Lab Practice!"
   ]
  },
  {
   "cell_type": "markdown",
   "metadata": {
    "id": "vVYcayGedmms"
   },
   "source": [
    "This lab is all about defining simple functions. Are you ready? Let's go!"
   ]
  },
  {
   "cell_type": "markdown",
   "metadata": {
    "id": "JP8eGBVyeSQx"
   },
   "source": [
    "You will find some small tasks in sections below. "
   ]
  },
  {
   "cell_type": "markdown",
   "metadata": {
    "id": "D8pWdoN7d6Dy"
   },
   "source": [
    "## Define simple functions (without return value and parameters)"
   ]
  },
  {
   "cell_type": "markdown",
   "metadata": {
    "id": "rXgbUIBRgQoG"
   },
   "source": [
    "###Task: define a function that print \"hello world\""
   ]
  },
  {
   "cell_type": "code",
   "execution_count": 4,
   "metadata": {
    "id": "oIKwmW2mfe3d"
   },
   "outputs": [
    {
     "name": "stdout",
     "output_type": "stream",
     "text": [
      "hello world\n"
     ]
    }
   ],
   "source": [
    "def print_hello_world():\n",
    "    print('hello world')\n",
    "\n",
    "print_hello_world()"
   ]
  },
  {
   "cell_type": "markdown",
   "metadata": {
    "id": "h-mrQgK7RKqm"
   },
   "source": [
    "###Task: define a function that print \"hello world\" 3 times"
   ]
  },
  {
   "cell_type": "code",
   "execution_count": 8,
   "metadata": {
    "id": "47f7Q_AIRMUW"
   },
   "outputs": [
    {
     "name": "stdout",
     "output_type": "stream",
     "text": [
      "hello world\n",
      "hello world\n",
      "hello world\n"
     ]
    }
   ],
   "source": [
    "def print_hello_world_3_times():\n",
    "    x = 1\n",
    "    while x <= 3:\n",
    "        print('hello world')\n",
    "        x += 1\n",
    "\n",
    "print_hello_world_3_times()"
   ]
  },
  {
   "cell_type": "markdown",
   "metadata": {
    "id": "1y6noqXNRMpG"
   },
   "source": [
    "###Task: define a function that print integers 1 to 10 (hint: you can use a for loop)"
   ]
  },
  {
   "cell_type": "code",
   "execution_count": 31,
   "metadata": {
    "id": "FR7idsVORX5_"
   },
   "outputs": [
    {
     "name": "stdout",
     "output_type": "stream",
     "text": [
      "1\n",
      "2\n",
      "3\n",
      "4\n",
      "5\n",
      "1\n",
      "2\n",
      "3\n",
      "4\n",
      "5\n"
     ]
    }
   ],
   "source": [
    "def print_int_for_loop(start, stop):\n",
    "    for i in range(start,stop+1):\n",
    "        print(i)\n",
    "print_int_for_loop(1,5)\n",
    "\n",
    "def print_int_while_loop(start, stop):\n",
    "    while start <= stop:\n",
    "        print(start)\n",
    "        start += 1\n",
    "print_int_while_loop(1,5)"
   ]
  },
  {
   "cell_type": "markdown",
   "metadata": {
    "id": "OoTXs3WERYju"
   },
   "source": [
    "###Task: define a function that print primary integers in 100 (hint: you can use loops)"
   ]
  },
  {
   "cell_type": "code",
   "execution_count": 59,
   "metadata": {
    "id": "2pS4qJ54RhKf"
   },
   "outputs": [
    {
     "name": "stdout",
     "output_type": "stream",
     "text": [
      "1\n",
      "2\n",
      "3\n",
      "5\n",
      "7\n",
      "11\n",
      "13\n",
      "17\n",
      "19\n",
      "23\n",
      "29\n",
      "31\n",
      "37\n",
      "41\n",
      "43\n",
      "47\n",
      "53\n",
      "59\n",
      "61\n",
      "67\n",
      "71\n",
      "73\n",
      "79\n",
      "83\n",
      "89\n",
      "97\n"
     ]
    }
   ],
   "source": [
    "def print_prime_number(bound):\n",
    "    for i in range(1,bound+1):\n",
    "        prime_check = True\n",
    "        for j in range(2,i):\n",
    "            if i % j == 0:\n",
    "                prime_check = False\n",
    "                break\n",
    "        if prime_check == True:\n",
    "            print(i)\n",
    "print_prime_number(100)  "
   ]
  },
  {
   "cell_type": "markdown",
   "metadata": {
    "id": "yU8y7mCoRmRH"
   },
   "source": [
    "###Task: define a function that print even number from 1 to 10."
   ]
  },
  {
   "cell_type": "code",
   "execution_count": 35,
   "metadata": {
    "id": "g67KsRe3R2KG"
   },
   "outputs": [
    {
     "name": "stdout",
     "output_type": "stream",
     "text": [
      "2\n",
      "4\n",
      "6\n",
      "8\n",
      "10\n"
     ]
    }
   ],
   "source": [
    "def print_even_number(start,stop):\n",
    "    for i in range(start,stop+1):\n",
    "        if i % 2 == 0:\n",
    "            print(i)\n",
    "\n",
    "print_even_number(1,10)"
   ]
  },
  {
   "cell_type": "markdown",
   "metadata": {
    "id": "QPoCScdkheK3"
   },
   "source": [
    "###Task: define a function that print odd number from 1 to 10"
   ]
  },
  {
   "cell_type": "code",
   "execution_count": 33,
   "metadata": {
    "id": "tsFowDAKhJCB"
   },
   "outputs": [
    {
     "name": "stdout",
     "output_type": "stream",
     "text": [
      "1\n",
      "3\n",
      "5\n",
      "7\n",
      "9\n"
     ]
    }
   ],
   "source": [
    "def print_odd_number(start,stop):\n",
    "    for i in range(start,stop+1):\n",
    "        if i % 2 != 0:\n",
    "            print(i)\n",
    "\n",
    "print_odd_number(1,10)"
   ]
  },
  {
   "cell_type": "markdown",
   "metadata": {
    "id": "TE6Df1WYhu10"
   },
   "source": [
    "###Task: define a function that print \"Welcome to Course 2\""
   ]
  },
  {
   "cell_type": "code",
   "execution_count": 25,
   "metadata": {
    "id": "MSjQbhNXhJVV"
   },
   "outputs": [
    {
     "name": "stdout",
     "output_type": "stream",
     "text": [
      "Welcome to Course 2\n"
     ]
    }
   ],
   "source": [
    "def print_welcome():\n",
    "    print(\"Welcome to Course 2\")\n",
    "\n",
    "print_welcome()"
   ]
  },
  {
   "cell_type": "markdown",
   "metadata": {
    "id": "4iCITSR6h7Yv"
   },
   "source": [
    "###Task: define a function that print \"Welcome to Courose 2\" 10 times."
   ]
  },
  {
   "cell_type": "code",
   "execution_count": 27,
   "metadata": {
    "id": "EKsuK9O6jW7D"
   },
   "outputs": [
    {
     "name": "stdout",
     "output_type": "stream",
     "text": [
      "Welcome to Course 2\n",
      "Welcome to Course 2\n",
      "Welcome to Course 2\n",
      "Welcome to Course 2\n",
      "Welcome to Course 2\n",
      "Welcome to Course 2\n",
      "Welcome to Course 2\n",
      "Welcome to Course 2\n",
      "Welcome to Course 2\n",
      "Welcome to Course 2\n"
     ]
    }
   ],
   "source": [
    "def print_welcome_10_time():\n",
    "    for i in range(0,10):\n",
    "        print(\"Welcome to Course 2\")\n",
    "\n",
    "print_welcome_10_time()"
   ]
  }
 ],
 "metadata": {
  "colab": {
   "authorship_tag": "ABX9TyMpNrw/osbbmy/30C6QHunO",
   "collapsed_sections": [],
   "name": "M1Lab2.ipynb",
   "provenance": [],
   "toc_visible": true
  },
  "kernelspec": {
   "display_name": "Python 3 (ipykernel)",
   "language": "python",
   "name": "python3"
  },
  "language_info": {
   "codemirror_mode": {
    "name": "ipython",
    "version": 3
   },
   "file_extension": ".py",
   "mimetype": "text/x-python",
   "name": "python",
   "nbconvert_exporter": "python",
   "pygments_lexer": "ipython3",
   "version": "3.11.7"
  }
 },
 "nbformat": 4,
 "nbformat_minor": 4
}
