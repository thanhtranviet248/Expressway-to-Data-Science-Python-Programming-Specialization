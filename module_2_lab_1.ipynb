{
 "cells": [
  {
   "cell_type": "markdown",
   "id": "4d7c1759-1566-4fc2-b625-592494309bfd",
   "metadata": {},
   "source": [
    "# Value assignment"
   ]
  },
  {
   "cell_type": "code",
   "execution_count": 2,
   "id": "a593c863-cb16-417b-a79a-5ed83e33149a",
   "metadata": {},
   "outputs": [
    {
     "name": "stdout",
     "output_type": "stream",
     "text": [
      "5 <class 'int'>\n"
     ]
    }
   ],
   "source": [
    "x = 5\n",
    "print(x, type(x))"
   ]
  },
  {
   "cell_type": "code",
   "execution_count": 3,
   "id": "c6a4af1a-3654-495b-9028-dabbfc77edc9",
   "metadata": {},
   "outputs": [
    {
     "name": "stdout",
     "output_type": "stream",
     "text": [
      "5 <class 'int'>\n"
     ]
    }
   ],
   "source": [
    "int_x = x\n",
    "print(int_x, type(int_x))"
   ]
  },
  {
   "cell_type": "code",
   "execution_count": 4,
   "id": "7c5133c2-725f-4404-9310-c4e2d01594a8",
   "metadata": {},
   "outputs": [
    {
     "name": "stdout",
     "output_type": "stream",
     "text": [
      "5.0 <class 'float'>\n"
     ]
    }
   ],
   "source": [
    "x = 5.0\n",
    "print(x, type(x))"
   ]
  },
  {
   "cell_type": "code",
   "execution_count": 5,
   "id": "c0a72ee4-2ff2-4481-a63c-6088cb5f2fc6",
   "metadata": {},
   "outputs": [
    {
     "name": "stdout",
     "output_type": "stream",
     "text": [
      "5.0 <class 'float'>\n"
     ]
    }
   ],
   "source": [
    "float_x = x\n",
    "print(float_x, type(float_x))"
   ]
  },
  {
   "cell_type": "code",
   "execution_count": 6,
   "id": "49beb714-9c99-4f20-8d04-facd2f0ca30e",
   "metadata": {},
   "outputs": [
    {
     "name": "stdout",
     "output_type": "stream",
     "text": [
      "5 <class 'str'>\n"
     ]
    }
   ],
   "source": [
    "x = '5'\n",
    "print(x, type(x))"
   ]
  },
  {
   "cell_type": "code",
   "execution_count": 7,
   "id": "b25ea41e-7ca9-477f-a1b1-140095071831",
   "metadata": {},
   "outputs": [
    {
     "name": "stdout",
     "output_type": "stream",
     "text": [
      "5 <class 'str'>\n"
     ]
    }
   ],
   "source": [
    "str1_x = x\n",
    "print(str1_x, type(str1_x))"
   ]
  },
  {
   "cell_type": "code",
   "execution_count": 8,
   "id": "6d34131b-c554-4db4-be5f-705e25420abb",
   "metadata": {},
   "outputs": [
    {
     "name": "stdout",
     "output_type": "stream",
     "text": [
      "5.0 <class 'str'>\n"
     ]
    }
   ],
   "source": [
    "x = '5.0'\n",
    "print(x, type(x))"
   ]
  },
  {
   "cell_type": "code",
   "execution_count": 9,
   "id": "62e3529c-fd6b-49ff-8760-054533ce1a3a",
   "metadata": {},
   "outputs": [
    {
     "name": "stdout",
     "output_type": "stream",
     "text": [
      "5.0 <class 'str'>\n"
     ]
    }
   ],
   "source": [
    "str2_x = x\n",
    "print(str2_x, type(str2_x))"
   ]
  },
  {
   "cell_type": "code",
   "execution_count": 10,
   "id": "810c0917-b1e2-4a5c-9cfd-e202a10681dc",
   "metadata": {},
   "outputs": [
    {
     "name": "stdout",
     "output_type": "stream",
     "text": [
      "<class 'str'> <class 'int'> <class 'float'> <class 'str'> <class 'str'>\n"
     ]
    }
   ],
   "source": [
    "print(type(x), type(int_x), type(float_x), type(str1_x), type(str2_x))"
   ]
  },
  {
   "cell_type": "markdown",
   "id": "b8491796-2678-4626-b144-9b18a878f311",
   "metadata": {},
   "source": [
    "# Value converting"
   ]
  },
  {
   "cell_type": "code",
   "execution_count": 12,
   "id": "42fcc936-d235-4723-85c3-337be96408d0",
   "metadata": {},
   "outputs": [
    {
     "name": "stdout",
     "output_type": "stream",
     "text": [
      "0 <class 'int'>\n"
     ]
    }
   ],
   "source": [
    "x = '0'\n",
    "x = int(x)\n",
    "print(x, type(x))"
   ]
  },
  {
   "cell_type": "code",
   "execution_count": 13,
   "id": "5fe69bb3-3404-4010-b44f-662bdca4b1d7",
   "metadata": {},
   "outputs": [
    {
     "name": "stdout",
     "output_type": "stream",
     "text": [
      "0 <class 'int'>\n"
     ]
    }
   ],
   "source": [
    "x = 0.1\n",
    "x = int(x)\n",
    "print(x, type(x))"
   ]
  },
  {
   "cell_type": "code",
   "execution_count": 14,
   "id": "a9127926-85e5-4ea9-811a-7eb857996b33",
   "metadata": {},
   "outputs": [
    {
     "name": "stdout",
     "output_type": "stream",
     "text": [
      "0.0 <class 'float'>\n"
     ]
    }
   ],
   "source": [
    "x = '0'\n",
    "x = float(x)\n",
    "print(x, type(x))"
   ]
  },
  {
   "cell_type": "code",
   "execution_count": 15,
   "id": "8af14b55-bd11-4255-b872-db7876c6402e",
   "metadata": {},
   "outputs": [
    {
     "name": "stdout",
     "output_type": "stream",
     "text": [
      "0.0 <class 'float'>\n"
     ]
    }
   ],
   "source": [
    "x = 0\n",
    "x = float(x)\n",
    "print(x, type(x))"
   ]
  },
  {
   "cell_type": "code",
   "execution_count": 16,
   "id": "ab176b24-c6ec-42a7-87d1-3256512cc297",
   "metadata": {},
   "outputs": [
    {
     "name": "stdout",
     "output_type": "stream",
     "text": [
      "0 <class 'str'>\n"
     ]
    }
   ],
   "source": [
    "x = 0\n",
    "x = str(x)\n",
    "print(x, type(x))"
   ]
  },
  {
   "cell_type": "code",
   "execution_count": 17,
   "id": "6bd16326-df47-4c9b-8357-88b2e7a25010",
   "metadata": {},
   "outputs": [
    {
     "name": "stdout",
     "output_type": "stream",
     "text": [
      "0.1 <class 'str'>\n"
     ]
    }
   ],
   "source": [
    "x = 0.1\n",
    "x = str(x)\n",
    "print(x, type(x))"
   ]
  }
 ],
 "metadata": {
  "kernelspec": {
   "display_name": "Python 3 (ipykernel)",
   "language": "python",
   "name": "python3"
  },
  "language_info": {
   "codemirror_mode": {
    "name": "ipython",
    "version": 3
   },
   "file_extension": ".py",
   "mimetype": "text/x-python",
   "name": "python",
   "nbconvert_exporter": "python",
   "pygments_lexer": "ipython3",
   "version": "3.11.7"
  }
 },
 "nbformat": 4,
 "nbformat_minor": 5
}
