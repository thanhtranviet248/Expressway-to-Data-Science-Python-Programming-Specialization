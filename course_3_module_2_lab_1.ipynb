{
 "cells": [
  {
   "cell_type": "markdown",
   "metadata": {
    "id": "fe7l2Vy92BWu"
   },
   "source": [
    "# Welcome to our Lab practice!\n",
    "\n",
    "This lab is all about the package, Numpy. Are you ready? Let's go!\n",
    "\n",
    "You will find some small tasks in sections below. \n",
    "\n",
    "> Try to figure out by yourself, or search for references. Being able to search and find information needed is an important skill that benefits you and your career for a long time.\n",
    "\n",
    "\n",
    "\n"
   ]
  },
  {
   "cell_type": "markdown",
   "metadata": {
    "id": "BG7wrui4BGri"
   },
   "source": [
    "## Import the package and rename it as np"
   ]
  },
  {
   "cell_type": "code",
   "execution_count": 3,
   "metadata": {
    "id": "qPVT30J3BKv6"
   },
   "outputs": [],
   "source": [
    "import numpy as np"
   ]
  },
  {
   "cell_type": "markdown",
   "metadata": {
    "id": "TTElGHtF2N7g"
   },
   "source": [
    "## Array Creation"
   ]
  },
  {
   "cell_type": "markdown",
   "metadata": {
    "id": "0CtQu71C3PP8"
   },
   "source": [
    "### Task: Create a numpy array from a list of integers"
   ]
  },
  {
   "cell_type": "code",
   "execution_count": 6,
   "metadata": {
    "id": "n7qiruks8HZ5"
   },
   "outputs": [
    {
     "data": {
      "text/plain": [
       "array([1, 2, 3, 4, 5, 6])"
      ]
     },
     "execution_count": 6,
     "metadata": {},
     "output_type": "execute_result"
    }
   ],
   "source": [
    "list = [1,2,3,4,5,6]\n",
    "a = np.array(list)\n",
    "a"
   ]
  },
  {
   "cell_type": "markdown",
   "metadata": {
    "id": "3FK5QxBO3dqS"
   },
   "source": [
    "### Task: Create a numpy array of size 6, filled with zeros"
   ]
  },
  {
   "cell_type": "code",
   "execution_count": 8,
   "metadata": {
    "id": "w-XimSI88J1J"
   },
   "outputs": [
    {
     "data": {
      "text/plain": [
       "array([0, 0, 0, 0, 0, 0])"
      ]
     },
     "execution_count": 8,
     "metadata": {},
     "output_type": "execute_result"
    }
   ],
   "source": [
    "b = np.zeros(6, dtype = int)\n",
    "b"
   ]
  },
  {
   "cell_type": "markdown",
   "metadata": {
    "id": "Db9Fwz4KI2al"
   },
   "source": [
    "### Task: Create a numpy array of size 6, filled with ones"
   ]
  },
  {
   "cell_type": "code",
   "execution_count": 10,
   "metadata": {
    "id": "W-PCGPuPUSTv"
   },
   "outputs": [
    {
     "data": {
      "text/plain": [
       "array([1., 1., 1., 1., 1., 1.])"
      ]
     },
     "execution_count": 10,
     "metadata": {},
     "output_type": "execute_result"
    }
   ],
   "source": [
    "c = np.ones(6, dtype = float)\n",
    "c"
   ]
  },
  {
   "cell_type": "markdown",
   "metadata": {
    "id": "42rLKWbe3l8m"
   },
   "source": [
    "### Task: Create a numpy array with values from 0 to 10"
   ]
  },
  {
   "cell_type": "code",
   "execution_count": 12,
   "metadata": {
    "id": "ExbcAYLk8LYI"
   },
   "outputs": [
    {
     "data": {
      "text/plain": [
       "array([0, 1, 2, 3, 4, 5, 6, 7, 8, 9])"
      ]
     },
     "execution_count": 12,
     "metadata": {},
     "output_type": "execute_result"
    }
   ],
   "source": [
    "d = np.arange(10, dtype = int)\n",
    "d"
   ]
  },
  {
   "cell_type": "markdown",
   "metadata": {
    "id": "c5314DLtJVyv"
   },
   "source": [
    "### Task: Create a numpy matrix of 2*3 integers, filled with zeros"
   ]
  },
  {
   "cell_type": "code",
   "execution_count": 14,
   "metadata": {
    "id": "JRNBES4MUTV2"
   },
   "outputs": [
    {
     "data": {
      "text/plain": [
       "array([[0, 0, 0],\n",
       "       [0, 0, 0]])"
      ]
     },
     "execution_count": 14,
     "metadata": {},
     "output_type": "execute_result"
    }
   ],
   "source": [
    "e = np.zeros((2,3), dtype = int)\n",
    "e"
   ]
  },
  {
   "cell_type": "markdown",
   "metadata": {
    "id": "tyPLq8JwJcQR"
   },
   "source": [
    "### Task: Create a numpy matrix of 3*2 integers, filled with ones"
   ]
  },
  {
   "cell_type": "code",
   "execution_count": 16,
   "metadata": {
    "id": "BbZBfz_qUUgf"
   },
   "outputs": [
    {
     "data": {
      "text/plain": [
       "array([[1, 1, 1],\n",
       "       [1, 1, 1]])"
      ]
     },
     "execution_count": 16,
     "metadata": {},
     "output_type": "execute_result"
    }
   ],
   "source": [
    "f = np.ones((2,3), dtype = int)\n",
    "f"
   ]
  },
  {
   "cell_type": "markdown",
   "metadata": {
    "id": "oIYfk1CJJs4R"
   },
   "source": [
    "### Task: Create a numpy matrix of 3*2 integers, filled with random integers in [0, 10]"
   ]
  },
  {
   "cell_type": "code",
   "execution_count": 18,
   "metadata": {
    "id": "f3rSXHN1UVJt"
   },
   "outputs": [
    {
     "data": {
      "text/plain": [
       "array([[9, 7],\n",
       "       [1, 8],\n",
       "       [5, 9]])"
      ]
     },
     "execution_count": 18,
     "metadata": {},
     "output_type": "execute_result"
    }
   ],
   "source": [
    "g = np.random.randint(0,10,(3,2), dtype = int)\n",
    "g"
   ]
  },
  {
   "cell_type": "markdown",
   "metadata": {
    "id": "-61o4-pCJ7y8"
   },
   "source": [
    "### Task: Create a numpy matrix of 100 * 2, filled with random float value in [0, 1]"
   ]
  },
  {
   "cell_type": "code",
   "execution_count": 20,
   "metadata": {
    "id": "NpxV1fsOUVtd"
   },
   "outputs": [
    {
     "data": {
      "text/plain": [
       "array([[0.66662565, 0.55994525],\n",
       "       [0.80746042, 0.05564104],\n",
       "       [0.55473233, 0.23463657],\n",
       "       [0.07403717, 0.21032786],\n",
       "       [0.88877664, 0.70309789],\n",
       "       [0.33618851, 0.55690612],\n",
       "       [0.98093963, 0.70783636],\n",
       "       [0.76991693, 0.55420483],\n",
       "       [0.42573094, 0.98599521],\n",
       "       [0.46781876, 0.40386738],\n",
       "       [0.32623971, 0.83592143],\n",
       "       [0.41617513, 0.66472828],\n",
       "       [0.44932239, 0.9676482 ],\n",
       "       [0.53129903, 0.41792366],\n",
       "       [0.8529761 , 0.29235822],\n",
       "       [0.40967132, 0.336542  ],\n",
       "       [0.04891414, 0.97624652],\n",
       "       [0.43393158, 0.98465314],\n",
       "       [0.38977428, 0.82047825],\n",
       "       [0.74383398, 0.33898696],\n",
       "       [0.01399059, 0.47061362],\n",
       "       [0.67005513, 0.5519067 ],\n",
       "       [0.23694958, 0.46787541],\n",
       "       [0.06488238, 0.95547613],\n",
       "       [0.16897157, 0.2811786 ],\n",
       "       [0.27764826, 0.48584258],\n",
       "       [0.88126342, 0.05171202],\n",
       "       [0.40762589, 0.36747667],\n",
       "       [0.85018806, 0.76892661],\n",
       "       [0.87913144, 0.59388655],\n",
       "       [0.96702988, 0.44008939],\n",
       "       [0.18543899, 0.36259984],\n",
       "       [0.76970388, 0.61347287],\n",
       "       [0.50386964, 0.42182914],\n",
       "       [0.53877837, 0.82784263],\n",
       "       [0.13314074, 0.28876726],\n",
       "       [0.0913808 , 0.04298127],\n",
       "       [0.12980827, 0.21320984],\n",
       "       [0.48471707, 0.26468841],\n",
       "       [0.23636098, 0.93463445],\n",
       "       [0.69726358, 0.29895662],\n",
       "       [0.8330947 , 0.46328557],\n",
       "       [0.95814207, 0.25510598],\n",
       "       [0.69407083, 0.57723582],\n",
       "       [0.16163545, 0.85663556],\n",
       "       [0.46967366, 0.7192346 ],\n",
       "       [0.95610047, 0.71736763],\n",
       "       [0.05384968, 0.16907739],\n",
       "       [0.37607841, 0.23222663],\n",
       "       [0.89850459, 0.93625034],\n",
       "       [0.7254415 , 0.65721126],\n",
       "       [0.70594875, 0.60923849],\n",
       "       [0.60421802, 0.121021  ],\n",
       "       [0.75025225, 0.9641525 ],\n",
       "       [0.78046236, 0.14319724],\n",
       "       [0.93130538, 0.89724072],\n",
       "       [0.09941906, 0.70261437],\n",
       "       [0.94542693, 0.97428922],\n",
       "       [0.52022617, 0.81774488],\n",
       "       [0.76613292, 0.53443848],\n",
       "       [0.37280722, 0.47843457],\n",
       "       [0.49113643, 0.65923393],\n",
       "       [0.83429864, 0.88303331],\n",
       "       [0.76031343, 0.55134476],\n",
       "       [0.07212673, 0.75713108],\n",
       "       [0.09935877, 0.03580196],\n",
       "       [0.48848368, 0.39419998],\n",
       "       [0.77594593, 0.00507881],\n",
       "       [0.0521776 , 0.89240851],\n",
       "       [0.23782165, 0.20105225],\n",
       "       [0.33004869, 0.71248131],\n",
       "       [0.95484991, 0.63296006],\n",
       "       [0.27680828, 0.50204015],\n",
       "       [0.98661099, 0.61523668],\n",
       "       [0.94979387, 0.44263006],\n",
       "       [0.46876425, 0.78498402],\n",
       "       [0.11527669, 0.30304852],\n",
       "       [0.8147135 , 0.70452146],\n",
       "       [0.3906692 , 0.81560795],\n",
       "       [0.27932257, 0.95682905],\n",
       "       [0.14957233, 0.69522175],\n",
       "       [0.12274773, 0.56207294],\n",
       "       [0.72408365, 0.21839134],\n",
       "       [0.7039993 , 0.21712242],\n",
       "       [0.48641195, 0.42101576],\n",
       "       [0.39973303, 0.86780966],\n",
       "       [0.13731513, 0.88326971],\n",
       "       [0.68885371, 0.73722678],\n",
       "       [0.08641525, 0.70455662],\n",
       "       [0.47895379, 0.79677497],\n",
       "       [0.7826673 , 0.9505104 ],\n",
       "       [0.82294728, 0.28153421],\n",
       "       [0.38093141, 0.23913761],\n",
       "       [0.44634759, 0.43991382],\n",
       "       [0.93388744, 0.34286545],\n",
       "       [0.71936456, 0.2310542 ],\n",
       "       [0.7913095 , 0.06272959],\n",
       "       [0.2914731 , 0.93856969],\n",
       "       [0.95118739, 0.16060488],\n",
       "       [0.11961229, 0.79387991]])"
      ]
     },
     "execution_count": 20,
     "metadata": {},
     "output_type": "execute_result"
    }
   ],
   "source": [
    "h = np.random.random((100,2))\n",
    "h"
   ]
  },
  {
   "cell_type": "markdown",
   "metadata": {
    "id": "jZ4l3axBJ5tJ"
   },
   "source": [
    "### Task: Create a numpy matrix of 2 * 3 * 4, filled with integers from 1 to 24."
   ]
  },
  {
   "cell_type": "code",
   "execution_count": 22,
   "metadata": {
    "id": "G3AKUvkMUWu2"
   },
   "outputs": [
    {
     "data": {
      "text/plain": [
       "array([[[ 1,  2,  3,  4],\n",
       "        [ 5,  6,  7,  8],\n",
       "        [ 9, 10, 11, 12]],\n",
       "\n",
       "       [[13, 14, 15, 16],\n",
       "        [17, 18, 19, 20],\n",
       "        [21, 22, 23, 24]]])"
      ]
     },
     "execution_count": 22,
     "metadata": {},
     "output_type": "execute_result"
    }
   ],
   "source": [
    "i = np.arange(1,24+1).reshape(2,3,4)\n",
    "i"
   ]
  },
  {
   "cell_type": "markdown",
   "metadata": {
    "id": "1ut5x4Zl2RVu"
   },
   "source": [
    "## Array Indexing"
   ]
  },
  {
   "cell_type": "markdown",
   "metadata": {
    "id": "3iWGsCO4KpaD"
   },
   "source": [
    "### Task: Let X be a numpy array, and X = np.array([1, 2, 3, 4, 5])"
   ]
  },
  {
   "cell_type": "code",
   "execution_count": 25,
   "metadata": {
    "id": "_OfiD8vBBhCM"
   },
   "outputs": [],
   "source": [
    "x = np.array([1,2,3,4,5])"
   ]
  },
  {
   "cell_type": "markdown",
   "metadata": {
    "id": "dGUiTYKM4XTF"
   },
   "source": [
    "### Task: Show the first element of X"
   ]
  },
  {
   "cell_type": "code",
   "execution_count": 27,
   "metadata": {
    "id": "MQ9sEgvL8Mph"
   },
   "outputs": [
    {
     "data": {
      "text/plain": [
       "1"
      ]
     },
     "execution_count": 27,
     "metadata": {},
     "output_type": "execute_result"
    }
   ],
   "source": [
    "x[0]"
   ]
  },
  {
   "cell_type": "markdown",
   "metadata": {
    "id": "VYkj8Sni5SLY"
   },
   "source": [
    "### Task: Show the last element of X"
   ]
  },
  {
   "cell_type": "code",
   "execution_count": 29,
   "metadata": {
    "id": "ezJbefBc8NSc"
   },
   "outputs": [
    {
     "data": {
      "text/plain": [
       "5"
      ]
     },
     "execution_count": 29,
     "metadata": {},
     "output_type": "execute_result"
    }
   ],
   "source": [
    "x[-1]"
   ]
  },
  {
   "cell_type": "markdown",
   "metadata": {
    "id": "-BEsJESu4hx0"
   },
   "source": [
    "### Task: Show the first 3 elements of X"
   ]
  },
  {
   "cell_type": "code",
   "execution_count": 31,
   "metadata": {
    "id": "GqsoQylO8Nz4"
   },
   "outputs": [
    {
     "data": {
      "text/plain": [
       "array([1, 2, 3])"
      ]
     },
     "execution_count": 31,
     "metadata": {},
     "output_type": "execute_result"
    }
   ],
   "source": [
    "x[:3]"
   ]
  },
  {
   "cell_type": "markdown",
   "metadata": {
    "id": "NOLUtTzDLD-l"
   },
   "source": [
    "### Task: Show the last 3 elements of X"
   ]
  },
  {
   "cell_type": "code",
   "execution_count": 33,
   "metadata": {
    "id": "p_YG72N2UYjG"
   },
   "outputs": [
    {
     "data": {
      "text/plain": [
       "array([3, 4, 5])"
      ]
     },
     "execution_count": 33,
     "metadata": {},
     "output_type": "execute_result"
    }
   ],
   "source": [
    "x[-3:]"
   ]
  },
  {
   "cell_type": "markdown",
   "metadata": {
    "id": "tsukfJQ1LabJ"
   },
   "source": [
    "### Task: Show the elements of X except the last one"
   ]
  },
  {
   "cell_type": "code",
   "execution_count": 35,
   "metadata": {
    "id": "PlPO_MgPUZqG"
   },
   "outputs": [
    {
     "data": {
      "text/plain": [
       "array([1, 2, 3, 4])"
      ]
     },
     "execution_count": 35,
     "metadata": {},
     "output_type": "execute_result"
    }
   ],
   "source": [
    "x[:-1]"
   ]
  },
  {
   "cell_type": "markdown",
   "metadata": {
    "id": "8EhDJvC2Lm77"
   },
   "source": [
    "### Task: Let X be a numpy matrix with dimension 3 * 4, and filled from 0 to 11."
   ]
  },
  {
   "cell_type": "code",
   "execution_count": 37,
   "metadata": {
    "id": "fwvu0ToqBiXA"
   },
   "outputs": [
    {
     "data": {
      "text/plain": [
       "array([[ 0,  1,  2,  3],\n",
       "       [ 4,  5,  6,  7],\n",
       "       [ 8,  9, 10, 11]])"
      ]
     },
     "execution_count": 37,
     "metadata": {},
     "output_type": "execute_result"
    }
   ],
   "source": [
    "x = np.arange(12, dtype = int).reshape(3,4)\n",
    "x"
   ]
  },
  {
   "cell_type": "markdown",
   "metadata": {
    "id": "hi4_PetZ4oJk"
   },
   "source": [
    "### Task: Show the first row of X"
   ]
  },
  {
   "cell_type": "code",
   "execution_count": 39,
   "metadata": {
    "id": "Iwz0Ljxs8OqA"
   },
   "outputs": [
    {
     "data": {
      "text/plain": [
       "array([0, 1, 2, 3])"
      ]
     },
     "execution_count": 39,
     "metadata": {},
     "output_type": "execute_result"
    }
   ],
   "source": [
    "x[0]"
   ]
  },
  {
   "cell_type": "markdown",
   "metadata": {
    "id": "4juNISwiP3jt"
   },
   "source": [
    "### Task: Show the first column of X"
   ]
  },
  {
   "cell_type": "code",
   "execution_count": 41,
   "metadata": {
    "id": "dPDgvTVeUakl"
   },
   "outputs": [
    {
     "data": {
      "text/plain": [
       "array([0, 4, 8])"
      ]
     },
     "execution_count": 41,
     "metadata": {},
     "output_type": "execute_result"
    }
   ],
   "source": [
    "x[:,0]"
   ]
  },
  {
   "cell_type": "markdown",
   "metadata": {
    "id": "FOhsq6KcP6BX"
   },
   "source": [
    "### Task: Show the first element of the first row of X"
   ]
  },
  {
   "cell_type": "code",
   "execution_count": 43,
   "metadata": {
    "id": "HpawggljUbOk"
   },
   "outputs": [
    {
     "data": {
      "text/plain": [
       "0"
      ]
     },
     "execution_count": 43,
     "metadata": {},
     "output_type": "execute_result"
    }
   ],
   "source": [
    "x[0,0]"
   ]
  },
  {
   "cell_type": "markdown",
   "metadata": {
    "id": "1fCRCWyxP_rX"
   },
   "source": [
    "### Task: Show the last row of X"
   ]
  },
  {
   "cell_type": "code",
   "execution_count": 45,
   "metadata": {
    "id": "hVPhcd5cUby8"
   },
   "outputs": [
    {
     "data": {
      "text/plain": [
       "array([ 8,  9, 10, 11])"
      ]
     },
     "execution_count": 45,
     "metadata": {},
     "output_type": "execute_result"
    }
   ],
   "source": [
    "x[-1]"
   ]
  },
  {
   "cell_type": "markdown",
   "metadata": {
    "id": "VfwEaj7-QB68"
   },
   "source": [
    "### Task: Show the last column of X"
   ]
  },
  {
   "cell_type": "code",
   "execution_count": 47,
   "metadata": {
    "id": "R9LK1G9wUcat"
   },
   "outputs": [
    {
     "data": {
      "text/plain": [
       "array([ 3,  7, 11])"
      ]
     },
     "execution_count": 47,
     "metadata": {},
     "output_type": "execute_result"
    }
   ],
   "source": [
    "x[:,-1]"
   ]
  },
  {
   "cell_type": "markdown",
   "metadata": {
    "id": "gfnCcIJmQEFZ"
   },
   "source": [
    "### Task: Show the last element of the last row of X"
   ]
  },
  {
   "cell_type": "code",
   "execution_count": 49,
   "metadata": {
    "id": "8cKHG30wUc4-"
   },
   "outputs": [
    {
     "data": {
      "text/plain": [
       "11"
      ]
     },
     "execution_count": 49,
     "metadata": {},
     "output_type": "execute_result"
    }
   ],
   "source": [
    "x[-1,-1]"
   ]
  },
  {
   "cell_type": "markdown",
   "metadata": {
    "id": "mavuLFztQGkA"
   },
   "source": [
    "### Task: Show all the rows except the last row of X"
   ]
  },
  {
   "cell_type": "code",
   "execution_count": 51,
   "metadata": {
    "id": "yqg06Mk9Udeb"
   },
   "outputs": [
    {
     "data": {
      "text/plain": [
       "array([[0, 1, 2, 3],\n",
       "       [4, 5, 6, 7]])"
      ]
     },
     "execution_count": 51,
     "metadata": {},
     "output_type": "execute_result"
    }
   ],
   "source": [
    "x[:-1]"
   ]
  },
  {
   "cell_type": "markdown",
   "metadata": {
    "id": "gsugFt6CQSv8"
   },
   "source": [
    "### Task: Show all the columns except the last column of X"
   ]
  },
  {
   "cell_type": "code",
   "execution_count": 53,
   "metadata": {
    "id": "aSmfSj0rUd0d"
   },
   "outputs": [
    {
     "data": {
      "text/plain": [
       "array([[ 0,  1,  2],\n",
       "       [ 4,  5,  6],\n",
       "       [ 8,  9, 10]])"
      ]
     },
     "execution_count": 53,
     "metadata": {},
     "output_type": "execute_result"
    }
   ],
   "source": [
    "x[:,:-1]"
   ]
  },
  {
   "cell_type": "markdown",
   "metadata": {
    "id": "q39M28ow6Oqj"
   },
   "source": [
    "### Task: Show the first two elements of the first two rows"
   ]
  },
  {
   "cell_type": "code",
   "execution_count": 55,
   "metadata": {
    "id": "i5tQ-9118PPg"
   },
   "outputs": [
    {
     "data": {
      "text/plain": [
       "array([[0, 1],\n",
       "       [4, 5]])"
      ]
     },
     "execution_count": 55,
     "metadata": {},
     "output_type": "execute_result"
    }
   ],
   "source": [
    "x[:2,:2]"
   ]
  },
  {
   "cell_type": "markdown",
   "metadata": {
    "id": "BwMQX2n4Ttkk"
   },
   "source": [
    "## Array Statistics"
   ]
  },
  {
   "cell_type": "markdown",
   "metadata": {
    "id": "ZC1IirZtSi13"
   },
   "source": [
    "### Task: Create a numpy array X, print the sum, mean, std, var, max, min of it"
   ]
  },
  {
   "cell_type": "code",
   "execution_count": 58,
   "metadata": {
    "id": "VDEv57JAUer6"
   },
   "outputs": [
    {
     "data": {
      "text/plain": [
       "array([[ 0,  1,  2,  3],\n",
       "       [ 4,  5,  6,  7],\n",
       "       [ 8,  9, 10, 11]])"
      ]
     },
     "execution_count": 58,
     "metadata": {},
     "output_type": "execute_result"
    }
   ],
   "source": [
    "x"
   ]
  },
  {
   "cell_type": "markdown",
   "metadata": {
    "id": "0Db2EBujS1x2"
   },
   "source": [
    "### Task: Create a numpy matrix X as n * m, print the sum, mean, std, var, max, min of the 1st row of it."
   ]
  },
  {
   "cell_type": "code",
   "execution_count": 60,
   "metadata": {
    "id": "i_PJh-WyUe-h"
   },
   "outputs": [
    {
     "name": "stdout",
     "output_type": "stream",
     "text": [
      "6\n",
      "1.5\n",
      "1.118033988749895\n",
      "1.25\n",
      "3\n",
      "6\n"
     ]
    }
   ],
   "source": [
    "x.shape\n",
    "\n",
    "print(x[0].sum())\n",
    "print(x[0].mean())\n",
    "print(x[0].std())\n",
    "print(x[0].var())\n",
    "print(x[0].max())\n",
    "print(x[0].sum())\n"
   ]
  },
  {
   "cell_type": "markdown",
   "metadata": {
    "id": "fl9WXnhTTAol"
   },
   "source": [
    "## Array Linear Algebra"
   ]
  },
  {
   "cell_type": "markdown",
   "metadata": {
    "id": "Ll4gLDnfSOTv"
   },
   "source": [
    "###Task: Create two numpy matrix X with 2 * 2, and Y with 2 * 2. Practice Linear Algebra operations, such as +, -, *, .T, @, etc. "
   ]
  },
  {
   "cell_type": "code",
   "execution_count": 63,
   "metadata": {
    "id": "T3K8rFcMUgPT"
   },
   "outputs": [],
   "source": [
    "x = np.arange(0,4,1).reshape(2,2)\n",
    "y = np.arange(4,8,1).reshape(2,2)"
   ]
  },
  {
   "cell_type": "code",
   "execution_count": 64,
   "metadata": {},
   "outputs": [
    {
     "data": {
      "text/plain": [
       "array([[ 4,  6],\n",
       "       [ 8, 10]])"
      ]
     },
     "execution_count": 64,
     "metadata": {},
     "output_type": "execute_result"
    }
   ],
   "source": [
    "x + y"
   ]
  },
  {
   "cell_type": "code",
   "execution_count": 65,
   "metadata": {},
   "outputs": [
    {
     "data": {
      "text/plain": [
       "array([[-4, -4],\n",
       "       [-4, -4]])"
      ]
     },
     "execution_count": 65,
     "metadata": {},
     "output_type": "execute_result"
    }
   ],
   "source": [
    "x - y"
   ]
  },
  {
   "cell_type": "code",
   "execution_count": 66,
   "metadata": {},
   "outputs": [
    {
     "data": {
      "text/plain": [
       "array([[ 0,  5],\n",
       "       [12, 21]])"
      ]
     },
     "execution_count": 66,
     "metadata": {},
     "output_type": "execute_result"
    }
   ],
   "source": [
    "x * y"
   ]
  },
  {
   "cell_type": "code",
   "execution_count": 67,
   "metadata": {},
   "outputs": [
    {
     "data": {
      "text/plain": [
       "array([[ 6,  7],\n",
       "       [26, 31]])"
      ]
     },
     "execution_count": 67,
     "metadata": {},
     "output_type": "execute_result"
    }
   ],
   "source": [
    "x @ y"
   ]
  },
  {
   "cell_type": "code",
   "execution_count": 68,
   "metadata": {},
   "outputs": [
    {
     "data": {
      "text/plain": [
       "array([[ 5,  7],\n",
       "       [23, 33]])"
      ]
     },
     "execution_count": 68,
     "metadata": {},
     "output_type": "execute_result"
    }
   ],
   "source": [
    "x @ y.T"
   ]
  }
 ],
 "metadata": {
  "colab": {
   "authorship_tag": "ABX9TyPOArmpLN0idHX0WDYsVXp6",
   "collapsed_sections": [],
   "name": "M2Lab1-Numpy.ipynb",
   "provenance": [],
   "toc_visible": true
  },
  "kernelspec": {
   "display_name": "Python 3 (ipykernel)",
   "language": "python",
   "name": "python3"
  },
  "language_info": {
   "codemirror_mode": {
    "name": "ipython",
    "version": 3
   },
   "file_extension": ".py",
   "mimetype": "text/x-python",
   "name": "python",
   "nbconvert_exporter": "python",
   "pygments_lexer": "ipython3",
   "version": "3.11.7"
  }
 },
 "nbformat": 4,
 "nbformat_minor": 4
}
