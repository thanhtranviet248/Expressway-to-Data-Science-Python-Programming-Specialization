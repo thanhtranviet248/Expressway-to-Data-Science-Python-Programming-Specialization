{
 "cells": [
  {
   "cell_type": "markdown",
   "metadata": {
    "id": "cnAUJprJdh9_"
   },
   "source": [
    "# Welcome to our Lab Practice!"
   ]
  },
  {
   "cell_type": "markdown",
   "metadata": {
    "id": "vVYcayGedmms"
   },
   "source": [
    "This lab is all about defining functions with ONE parameter. Are you ready? Let's go!"
   ]
  },
  {
   "cell_type": "markdown",
   "metadata": {
    "id": "JP8eGBVyeSQx"
   },
   "source": [
    "You will find some small tasks in sections below. After defining functions, call them to test."
   ]
  },
  {
   "cell_type": "markdown",
   "metadata": {
    "id": "rXgbUIBRgQoG"
   },
   "source": [
    "###Task: define a function that print \"hello, *name*\" where *name* is a parameter"
   ]
  },
  {
   "cell_type": "code",
   "execution_count": 1,
   "metadata": {
    "id": "oIKwmW2mfe3d"
   },
   "outputs": [
    {
     "name": "stdout",
     "output_type": "stream",
     "text": [
      "Thanh\n"
     ]
    }
   ],
   "source": [
    "def print_hello(name):\n",
    "    print(name)\n",
    "    \n",
    "print_hello('Thanh')"
   ]
  },
  {
   "cell_type": "markdown",
   "metadata": {
    "id": "h-mrQgK7RKqm"
   },
   "source": [
    "###Task: define a function that print \"hello world\" *n* times, where *n* is a parameter"
   ]
  },
  {
   "cell_type": "code",
   "execution_count": 5,
   "metadata": {
    "id": "47f7Q_AIRMUW"
   },
   "outputs": [
    {
     "name": "stdout",
     "output_type": "stream",
     "text": [
      "hello world\n",
      "hello world\n",
      "hello world\n",
      "hello world\n",
      "hello world\n"
     ]
    }
   ],
   "source": [
    "def hello_word(n):\n",
    "    for i in range(n):\n",
    "        print('hello world')\n",
    "    \n",
    "hello_word(5)"
   ]
  },
  {
   "cell_type": "markdown",
   "metadata": {
    "id": "1y6noqXNRMpG"
   },
   "source": [
    "###Task: define a function that print integers 1 to *n* (hint: you can use a for loop), where *n* is a parameter"
   ]
  },
  {
   "cell_type": "code",
   "execution_count": 7,
   "metadata": {
    "id": "FR7idsVORX5_"
   },
   "outputs": [
    {
     "name": "stdout",
     "output_type": "stream",
     "text": [
      "1\n",
      "2\n",
      "3\n",
      "4\n",
      "5\n",
      "6\n",
      "7\n",
      "8\n",
      "9\n",
      "10\n"
     ]
    }
   ],
   "source": [
    "def print_integer(n):\n",
    "    i = 1\n",
    "    while i <= n:\n",
    "        print(i)\n",
    "        i += 1\n",
    "    \n",
    "print_integer(10)"
   ]
  },
  {
   "cell_type": "markdown",
   "metadata": {
    "id": "OoTXs3WERYju"
   },
   "source": [
    "###Task: define a function that print prime integers in *n* (hint: you can use loops), where *n* is a parameter"
   ]
  },
  {
   "cell_type": "code",
   "execution_count": 57,
   "metadata": {
    "id": "2pS4qJ54RhKf"
   },
   "outputs": [
    {
     "name": "stdout",
     "output_type": "stream",
     "text": [
      "2\n",
      "3\n",
      "5\n",
      "7\n",
      "11\n",
      "13\n",
      "17\n",
      "19\n"
     ]
    }
   ],
   "source": [
    "def print_prime(n):\n",
    "    for i in range(2,n+1):\n",
    "        prime = True\n",
    "        for j in range(2,i):\n",
    "            if i % j == 0:\n",
    "                prime = False\n",
    "                break\n",
    "        if prime == True:\n",
    "            print(i)\n",
    "\n",
    "print_prime(20)"
   ]
  },
  {
   "cell_type": "markdown",
   "metadata": {
    "id": "yU8y7mCoRmRH"
   },
   "source": [
    "###Task: define a function that print whether or not given *n* is even, *n* is a parameter"
   ]
  },
  {
   "cell_type": "code",
   "execution_count": 17,
   "metadata": {
    "id": "g67KsRe3R2KG"
   },
   "outputs": [
    {
     "name": "stdout",
     "output_type": "stream",
     "text": [
      "odd\n"
     ]
    }
   ],
   "source": [
    "def check_even(n):\n",
    "    if n % 2 == 0:\n",
    "        print('even')\n",
    "    else:\n",
    "        print('odd')\n",
    "        \n",
    "check_even(5)"
   ]
  },
  {
   "cell_type": "markdown",
   "metadata": {
    "id": "QPoCScdkheK3"
   },
   "source": [
    "###Task: define a function that print whether or not given *n* is odd, *n* is a parameter"
   ]
  },
  {
   "cell_type": "code",
   "execution_count": 23,
   "metadata": {
    "id": "tsFowDAKhJCB"
   },
   "outputs": [
    {
     "name": "stdout",
     "output_type": "stream",
     "text": [
      "odd\n"
     ]
    }
   ],
   "source": [
    "def check_odd(n):\n",
    "    if n % 2 != 0:\n",
    "        print('even')\n",
    "    else:\n",
    "        print('odd')\n",
    "        \n",
    "check_even(7)"
   ]
  },
  {
   "cell_type": "markdown",
   "metadata": {
    "id": "Jbw-h9GMhnQl"
   },
   "source": [
    "###Task: define a function that print the absolute value of *n*, *n* is a parameter"
   ]
  },
  {
   "cell_type": "code",
   "execution_count": 25,
   "metadata": {
    "id": "dUOiwszHhsEN"
   },
   "outputs": [
    {
     "name": "stdout",
     "output_type": "stream",
     "text": [
      "100\n"
     ]
    }
   ],
   "source": [
    "def print_abs(n):\n",
    "    if n <= 0:\n",
    "        print(-n)\n",
    "    else:\n",
    "        print(n)\n",
    "        \n",
    "print_abs(-100)"
   ]
  },
  {
   "cell_type": "markdown",
   "metadata": {
    "id": "AyaEIEqOhsV8"
   },
   "source": [
    "###Task: define a function that print the square value of *n*, *n* is a parameter"
   ]
  },
  {
   "cell_type": "code",
   "execution_count": 27,
   "metadata": {
    "id": "-lVtxeAmhv9t"
   },
   "outputs": [
    {
     "name": "stdout",
     "output_type": "stream",
     "text": [
      "64\n"
     ]
    }
   ],
   "source": [
    "def print_sqr(n):\n",
    "    print(n**2)\n",
    "\n",
    "print_sqr(-8)"
   ]
  },
  {
   "cell_type": "markdown",
   "metadata": {
    "id": "TE6Df1WYhu10"
   },
   "source": [
    "###Task: define a function that print whether or not given *n* is divisible by 6, *n* is a parameter"
   ]
  },
  {
   "cell_type": "code",
   "execution_count": 29,
   "metadata": {
    "id": "MSjQbhNXhJVV"
   },
   "outputs": [
    {
     "name": "stdout",
     "output_type": "stream",
     "text": [
      "divisible by 6\n"
     ]
    }
   ],
   "source": [
    "def print_divisible_by_6(n):\n",
    "    if n % 6 == 0:\n",
    "        print('divisible by 6')\n",
    "    else:\n",
    "        print('no divisible by 6')\n",
    "\n",
    "print_divisible_by_6(12)"
   ]
  },
  {
   "cell_type": "markdown",
   "metadata": {
    "id": "4iCITSR6h7Yv"
   },
   "source": [
    "###Task: define a function that print whether or not given *n* is prime, *n* is a parameter"
   ]
  },
  {
   "cell_type": "code",
   "execution_count": 52,
   "metadata": {},
   "outputs": [
    {
     "name": "stdout",
     "output_type": "stream",
     "text": [
      "prime number\n"
     ]
    }
   ],
   "source": [
    "def check_prime(n):\n",
    "    prime = 0\n",
    "    for i in range(2,n):\n",
    "        if n % i == 0:\n",
    "            prime = 1\n",
    "            break\n",
    "    if prime == 0:\n",
    "        print('prime number')\n",
    "    else:\n",
    "        print('not prime number')\n",
    "        \n",
    "check_prime(13)"
   ]
  }
 ],
 "metadata": {
  "colab": {
   "authorship_tag": "ABX9TyPRgVGy0DfidxpkpbB9Oa42",
   "collapsed_sections": [],
   "name": "M2Lab1.ipynb",
   "provenance": [],
   "toc_visible": true
  },
  "kernelspec": {
   "display_name": "Python 3 (ipykernel)",
   "language": "python",
   "name": "python3"
  },
  "language_info": {
   "codemirror_mode": {
    "name": "ipython",
    "version": 3
   },
   "file_extension": ".py",
   "mimetype": "text/x-python",
   "name": "python",
   "nbconvert_exporter": "python",
   "pygments_lexer": "ipython3",
   "version": "3.11.7"
  }
 },
 "nbformat": 4,
 "nbformat_minor": 4
}
