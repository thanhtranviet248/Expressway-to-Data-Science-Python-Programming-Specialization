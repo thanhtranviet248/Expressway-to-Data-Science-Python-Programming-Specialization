{
 "cells": [
  {
   "cell_type": "markdown",
   "id": "17b3026b-5c24-4f19-8734-183b0ba22371",
   "metadata": {
    "jp-MarkdownHeadingCollapsed": true
   },
   "source": [
    "# Single quotation"
   ]
  },
  {
   "cell_type": "code",
   "execution_count": 2,
   "id": "06667f79-0934-4467-aae3-83ca9a1d67d7",
   "metadata": {},
   "outputs": [
    {
     "name": "stdout",
     "output_type": "stream",
     "text": [
      "Hello, world!\n"
     ]
    }
   ],
   "source": [
    "print('Hello, world!')"
   ]
  },
  {
   "cell_type": "code",
   "execution_count": 3,
   "id": "8516ee33-9361-476b-8939-b573efc3d890",
   "metadata": {},
   "outputs": [
    {
     "name": "stdout",
     "output_type": "stream",
     "text": [
      "\"Hello, world!\"\n"
     ]
    }
   ],
   "source": [
    "print('\\\"Hello, world!\"')"
   ]
  },
  {
   "cell_type": "code",
   "execution_count": 4,
   "id": "ee3753ca-5f3c-4595-a684-613b1588f18c",
   "metadata": {},
   "outputs": [
    {
     "name": "stdout",
     "output_type": "stream",
     "text": [
      "\"How are you?\"\n"
     ]
    }
   ],
   "source": [
    "print('\\\"How are you?\"')"
   ]
  },
  {
   "cell_type": "markdown",
   "id": "5f26884b-0125-4ad5-aac7-1cdd55648c38",
   "metadata": {},
   "source": [
    "# Double quotation"
   ]
  },
  {
   "cell_type": "code",
   "execution_count": 6,
   "id": "ec17eaff-59ef-4044-8b78-8d253196a18b",
   "metadata": {},
   "outputs": [
    {
     "name": "stdout",
     "output_type": "stream",
     "text": [
      "Hello, world!\n"
     ]
    }
   ],
   "source": [
    "print(\"Hello, world!\")"
   ]
  },
  {
   "cell_type": "code",
   "execution_count": 7,
   "id": "cf613ba7-611b-4121-b2d1-8f8930f2371a",
   "metadata": {},
   "outputs": [
    {
     "name": "stdout",
     "output_type": "stream",
     "text": [
      "I'm fine\n"
     ]
    }
   ],
   "source": [
    "print(\"I'm fine\")"
   ]
  },
  {
   "cell_type": "code",
   "execution_count": 8,
   "id": "4bac9c5b-0fa9-4d57-8f9a-4e0254663a3a",
   "metadata": {},
   "outputs": [
    {
     "name": "stdout",
     "output_type": "stream",
     "text": [
      "It's a great day!\n"
     ]
    }
   ],
   "source": [
    "print(\"It's a great day!\")"
   ]
  },
  {
   "cell_type": "markdown",
   "id": "a26113ee-476a-4c74-9c60-ae1a33c3a415",
   "metadata": {},
   "source": [
    "# Triple quotation"
   ]
  },
  {
   "cell_type": "code",
   "execution_count": 10,
   "id": "8327c939-fcb6-4172-9844-c7a468b23caf",
   "metadata": {},
   "outputs": [
    {
     "name": "stdout",
     "output_type": "stream",
     "text": [
      "\n",
      "This\n",
      "is\n",
      "a\n",
      "poem\n",
      "\n"
     ]
    }
   ],
   "source": [
    "print('''\n",
    "This\n",
    "is\n",
    "a\n",
    "poem\n",
    "''')"
   ]
  },
  {
   "cell_type": "code",
   "execution_count": 11,
   "id": "289ab766-cd8a-45fb-8472-274e95b3335f",
   "metadata": {},
   "outputs": [
    {
     "name": "stdout",
     "output_type": "stream",
     "text": [
      "\n",
      "This is a multi-line\n",
      "documentary. It consists\n",
      "several sentences and\n",
      "might be pages long.\n",
      "\n"
     ]
    }
   ],
   "source": [
    "print('''\n",
    "This is a multi-line\n",
    "documentary. It consists\n",
    "several sentences and\n",
    "might be pages long.\n",
    "''')"
   ]
  },
  {
   "cell_type": "markdown",
   "id": "a37e46b2-6c5c-40ef-b510-dd8403791a1e",
   "metadata": {},
   "source": [
    "# Combination of quotations"
   ]
  },
  {
   "cell_type": "code",
   "execution_count": 13,
   "id": "ef638e86-463b-4361-a8dd-c9db2ae2c283",
   "metadata": {},
   "outputs": [
    {
     "name": "stdout",
     "output_type": "stream",
     "text": [
      "\n",
      "\"How are you?\"\n",
      "\"I'm fine.\"\n",
      "\"It's a great day!\"\n",
      "\n"
     ]
    }
   ],
   "source": [
    "print('''\n",
    "\"How are you?\"\n",
    "\"I'm fine.\"\n",
    "\"It's a great day!\"\n",
    "''')"
   ]
  }
 ],
 "metadata": {
  "kernelspec": {
   "display_name": "Python 3 (ipykernel)",
   "language": "python",
   "name": "python3"
  },
  "language_info": {
   "codemirror_mode": {
    "name": "ipython",
    "version": 3
   },
   "file_extension": ".py",
   "mimetype": "text/x-python",
   "name": "python",
   "nbconvert_exporter": "python",
   "pygments_lexer": "ipython3",
   "version": "3.11.7"
  }
 },
 "nbformat": 4,
 "nbformat_minor": 5
}
