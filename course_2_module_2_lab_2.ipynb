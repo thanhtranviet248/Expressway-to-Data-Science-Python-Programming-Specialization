{
 "cells": [
  {
   "cell_type": "markdown",
   "metadata": {
    "id": "cnAUJprJdh9_"
   },
   "source": [
    "# Welcome to our Lab Practice!"
   ]
  },
  {
   "cell_type": "markdown",
   "metadata": {
    "id": "vVYcayGedmms"
   },
   "source": [
    "This lab is all about defining functions with multiple parameters. Are you ready? Let's go!"
   ]
  },
  {
   "cell_type": "markdown",
   "metadata": {
    "id": "JP8eGBVyeSQx"
   },
   "source": [
    "You will find some small tasks in sections below. After defining functions, call them to test."
   ]
  },
  {
   "cell_type": "markdown",
   "metadata": {
    "id": "MBpHkOhIfmrY"
   },
   "source": [
    "###Task: define a function that print \"*message*\" *n* times, where *message* and *n* are parameters"
   ]
  },
  {
   "cell_type": "code",
   "execution_count": 5,
   "metadata": {
    "id": "Orw6NIIef0Wp"
   },
   "outputs": [
    {
     "name": "stdout",
     "output_type": "stream",
     "text": [
      "hello, world\n",
      "hello, world\n",
      "hello, world\n",
      "hello, world\n",
      "hello, world\n",
      "hello, world\n",
      "hello, world\n",
      "hello, world\n",
      "hello, world\n",
      "hello, world\n"
     ]
    }
   ],
   "source": [
    "def print_message_n_times(message,n):\n",
    "    for i in range(n):\n",
    "        print(message)\n",
    "\n",
    "print_message_n_times(\"hello, world\", 10)"
   ]
  },
  {
   "cell_type": "markdown",
   "metadata": {
    "id": "DVjL6nU0f2Z_"
   },
   "source": [
    "###Task: define a function that print integers *n*  to *m* (hint: you can use a for loop), where *n* and *m* are parameters, and *n < m*.\n",
    "\n",
    "Challenge: Can you write a program that doesn't require *n < m*? "
   ]
  },
  {
   "cell_type": "code",
   "execution_count": 26,
   "metadata": {
    "id": "2iYaPzVSghML",
    "scrolled": true
   },
   "outputs": [
    {
     "name": "stdout",
     "output_type": "stream",
     "text": [
      "10\n",
      "10\n",
      "10\n",
      "10\n",
      "10\n",
      "3\n",
      "3\n",
      "3\n",
      "3\n",
      "3\n",
      "3\n",
      "5\n",
      "5\n",
      "5\n",
      "5\n",
      "5\n",
      "5\n",
      "5\n",
      "5\n"
     ]
    }
   ],
   "source": [
    "def print_message_n_times_1ver(n,m):\n",
    "    i = n   \n",
    "    while i < m:\n",
    "        print(n)\n",
    "        i += 1\n",
    "print_message_n_times_1ver(10,15)\n",
    "\n",
    "def print_message_n_times_2ver(n,m):\n",
    "    i = n   \n",
    "    while True:\n",
    "        print(n)\n",
    "        i += 1\n",
    "        if i == m:\n",
    "            break\n",
    "print_message_n_times_2ver(3,9)\n",
    "\n",
    "def print_message_n_times_3ver(n,m):\n",
    "    for i in range(n,m+1):\n",
    "        print(n)\n",
    "print_message_n_times_3ver(5,12)"
   ]
  },
  {
   "cell_type": "markdown",
   "metadata": {
    "id": "YhJrQh4eghzb"
   },
   "source": [
    "###Task: define a function that print the sum of *n*  to *m*, where *n, m* are parameters, and *n* < *m*."
   ]
  },
  {
   "cell_type": "code",
   "execution_count": 38,
   "metadata": {
    "id": "n2Mm6RVYgwOq"
   },
   "outputs": [
    {
     "name": "stdout",
     "output_type": "stream",
     "text": [
      "5\n",
      "10\n",
      "20\n",
      "40\n",
      "80\n"
     ]
    }
   ],
   "source": [
    "def print_sumofn_to_m(n,m):\n",
    "    while n <= m:\n",
    "        print(n)\n",
    "        n += n\n",
    "print_sumofn_to_m(5,100)"
   ]
  },
  {
   "cell_type": "markdown",
   "metadata": {
    "id": "LzU4n3lDgzMR"
   },
   "source": [
    "###Task: define a function that print the AND logical operation of *condition1* and *condition 2*, where *condition1, condition2* are parameters."
   ]
  },
  {
   "cell_type": "code",
   "execution_count": 48,
   "metadata": {
    "id": "aoARtrf-hEJR"
   },
   "outputs": [
    {
     "name": "stdout",
     "output_type": "stream",
     "text": [
      "True\n"
     ]
    }
   ],
   "source": [
    "def printcondition(con1,con2):\n",
    "    if con1 == True or con2 == True:\n",
    "        print(con1 and con2)\n",
    "\n",
    "printcondition(3 < 5,100 + 5 == 105)"
   ]
  },
  {
   "cell_type": "markdown",
   "metadata": {
    "id": "WLCfkBtOhEfa"
   },
   "source": [
    "###Task: define a function that print if *n* is dividible by *m*, where *n, m* are parameters."
   ]
  },
  {
   "cell_type": "code",
   "execution_count": 50,
   "metadata": {
    "id": "h_aYoPmWhPRL"
   },
   "outputs": [
    {
     "name": "stdout",
     "output_type": "stream",
     "text": [
      "divisible\n"
     ]
    }
   ],
   "source": [
    "def check_divisible(n,m):\n",
    "    if m % n == 0:\n",
    "        print('divisible')\n",
    "    else:\n",
    "        print('nah')\n",
    "\n",
    "check_divisible(2,10)"
   ]
  },
  {
   "cell_type": "markdown",
   "metadata": {
    "id": "RNil8H04hUDq"
   },
   "source": [
    "###Task: define a function that print the minimal number from *x, y, z*, where *x, y, z* are parameters"
   ]
  },
  {
   "cell_type": "code",
   "execution_count": 66,
   "metadata": {
    "id": "HaZfxaajhhn8"
   },
   "outputs": [
    {
     "name": "stdout",
     "output_type": "stream",
     "text": [
      "5  is the min\n"
     ]
    }
   ],
   "source": [
    "def chec_min(x,y,z):\n",
    "    if x == y and y == z:\n",
    "        print('all equal')\n",
    "    elif x <= y and x <= z:\n",
    "        print(x, ' is the min')\n",
    "    elif y <= x and y <= z:\n",
    "        print(y, ' is the min')\n",
    "    else:\n",
    "        print(z, ' is the min')\n",
    "\n",
    "chec_min(8,8,5)"
   ]
  }
 ],
 "metadata": {
  "colab": {
   "authorship_tag": "ABX9TyOkauti1DOQK2y+ygbW/LCH",
   "collapsed_sections": [],
   "name": "M2Lab2.ipynb",
   "provenance": [],
   "toc_visible": true
  },
  "kernelspec": {
   "display_name": "Python 3 (ipykernel)",
   "language": "python",
   "name": "python3"
  },
  "language_info": {
   "codemirror_mode": {
    "name": "ipython",
    "version": 3
   },
   "file_extension": ".py",
   "mimetype": "text/x-python",
   "name": "python",
   "nbconvert_exporter": "python",
   "pygments_lexer": "ipython3",
   "version": "3.11.7"
  }
 },
 "nbformat": 4,
 "nbformat_minor": 4
}
