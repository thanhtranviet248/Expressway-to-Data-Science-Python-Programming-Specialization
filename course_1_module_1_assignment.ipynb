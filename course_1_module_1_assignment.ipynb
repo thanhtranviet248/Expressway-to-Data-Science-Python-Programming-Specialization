{
 "cells": [
  {
   "cell_type": "markdown",
   "id": "b096054a-fc2e-4d34-9e15-a7309a90707d",
   "metadata": {},
   "source": [
    "# Prepare a letter"
   ]
  },
  {
   "cell_type": "code",
   "execution_count": 2,
   "id": "bc60f8e6-5fd1-4686-b965-92dbb177b7c0",
   "metadata": {},
   "outputs": [
    {
     "name": "stdin",
     "output_type": "stream",
     "text": [
      "receiver's name Chau\n",
      "your first name Thanh\n",
      "your location Vienna\n",
      "# 3\n",
      "your full name Tran Viet Thanh\n",
      "date 01/11/2024\n"
     ]
    },
    {
     "name": "stdout",
     "output_type": "stream",
     "text": [
      "\n",
      "Dear Phuong,\n",
      "This is Thanh. I'm writing to let you know that the weather in Vienna is fantastic!\n",
      "I'm taking Python for Data Science course. I have coded 3 programs and the experience was fun! Join me if you are interested!\n",
      "Sincerely,\n",
      "Tran Viet Thanh\n",
      "01/11/2024\n",
      "\n"
     ]
    }
   ],
   "source": [
    "print(f'''\n",
    "Dear {input(\"receiver's name\")},\n",
    "This is {input(\"your first name\")}. I'm writing to let you know that the weather in {input(\"your location\")} is fantastic!\n",
    "I'm taking Python for Data Science course. I have coded {input(\"#\")} programs and the experience was fun! Join me if you are interested!\n",
    "Sincerely,\n",
    "{input(\"your full name\")}\n",
    "{input(\"date\")}\n",
    "''')"
   ]
  }
 ],
 "metadata": {
  "kernelspec": {
   "display_name": "Python 3 (ipykernel)",
   "language": "python",
   "name": "python3"
  },
  "language_info": {
   "codemirror_mode": {
    "name": "ipython",
    "version": 3
   },
   "file_extension": ".py",
   "mimetype": "text/x-python",
   "name": "python",
   "nbconvert_exporter": "python",
   "pygments_lexer": "ipython3",
   "version": "3.11.7"
  }
 },
 "nbformat": 4,
 "nbformat_minor": 5
}
