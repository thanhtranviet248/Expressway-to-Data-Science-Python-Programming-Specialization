{
 "cells": [
  {
   "cell_type": "markdown",
   "metadata": {
    "id": "cnAUJprJdh9_"
   },
   "source": [
    "# Welcome to our Lab Practice!"
   ]
  },
  {
   "cell_type": "markdown",
   "metadata": {
    "id": "vVYcayGedmms"
   },
   "source": [
    "This lab is all about defining nested functions. Are you ready? Let's get started!"
   ]
  },
  {
   "cell_type": "markdown",
   "metadata": {
    "id": "JP8eGBVyeSQx"
   },
   "source": [
    "You will find some small tasks in sections below. After defining functions, call them to test."
   ]
  },
  {
   "cell_type": "markdown",
   "metadata": {
    "id": "D8pWdoN7d6Dy"
   },
   "source": [
    "## Define nestted functions. "
   ]
  },
  {
   "cell_type": "markdown",
   "metadata": {
    "id": "TTqVA_ew48Sn"
   },
   "source": [
    "### Task: Calculator\n",
    "\n",
    "1.   Define a function that ask the user to input a number\n",
    "2.   Define a function that computes the sum of two numbers\n",
    "3.   Define a function that computes the substraction of two numbers\n",
    "4.   Define a function that computes the product of two numbers\n",
    "5.   Define a function that computes the division of two numbers\n",
    "6.   Define a function that print the arithmetic operation result of two numbers by calling functions defined above\n",
    "\n",
    "\n"
   ]
  },
  {
   "cell_type": "code",
   "execution_count": 6,
   "metadata": {
    "id": "4l8oECs25O26"
   },
   "outputs": [],
   "source": [
    "def input_number():\n",
    "    a = int(input('input a number'))\n",
    "    return a\n",
    "\n",
    "def sum_two(x,y):\n",
    "    return x + y\n",
    "\n",
    "def subtract_two(x,y):\n",
    "    return x - y\n",
    "\n",
    "def product_two(x,y):\n",
    "    return x * y\n",
    "\n",
    "def divide_two(x,y):\n",
    "    return x / y\n",
    "\n",
    "def calculator():\n",
    "    x = input_number()\n",
    "    y = input_number()\n",
    "    ope = input('arithmetic operation')\n",
    "    if ope == '+':\n",
    "        return sum_two(x,y)\n",
    "    elif ope == '-':\n",
    "        return subtract_two(x,y)\n",
    "    elif ope == '*':\n",
    "        return product_two(x,y)\n",
    "    else:\n",
    "        return divide_two(x,y)"
   ]
  },
  {
   "cell_type": "code",
   "execution_count": 7,
   "metadata": {},
   "outputs": [
    {
     "name": "stdin",
     "output_type": "stream",
     "text": [
      "input a number 1\n",
      "input a number 2\n",
      "arithmetic operation +\n"
     ]
    },
    {
     "data": {
      "text/plain": [
       "3"
      ]
     },
     "execution_count": 7,
     "metadata": {},
     "output_type": "execute_result"
    }
   ],
   "source": [
    "calculator()"
   ]
  },
  {
   "cell_type": "markdown",
   "metadata": {
    "id": "9hfJ0kha5G_A"
   },
   "source": [
    "### Task: Statistics\n",
    "\n",
    "1.   Define a function that ask the user to input a number\n",
    "2.   Define a function that computes the min of three numbers\n",
    "3.   Define a function that computes the max of three numbers\n",
    "4.   Define a function that computes the total of three numbers\n",
    "5.   Define a function that computes the average of three numbers\n",
    "6.   Define a function that print the statistics of the three numbers by calling functions defineda bove"
   ]
  },
  {
   "cell_type": "code",
   "execution_count": 9,
   "metadata": {
    "id": "qL379kld5PX0"
   },
   "outputs": [],
   "source": [
    "def find_min(x,y,z):\n",
    "    if x == y and x == z:\n",
    "        return 'all equal'\n",
    "    elif x <= y and x <= z:\n",
    "        return x\n",
    "    elif y <= x and y <= z:\n",
    "        return y\n",
    "    else:\n",
    "        return z\n",
    "\n",
    "def find_max(x,y,z):\n",
    "    if x == y and x == z:\n",
    "        return 'all equal'\n",
    "    elif x >= y and x >= z:\n",
    "        return x\n",
    "    elif y >= x and y >= z:\n",
    "        return y\n",
    "    else:\n",
    "        return z\n",
    "\n",
    "def find_total(x,y,z):\n",
    "    return x + y + z\n",
    "\n",
    "def find_average(x,y,z):\n",
    "    return (x + y + z)/3\n",
    "\n",
    "def print_stats():\n",
    "    x = input_number()\n",
    "    y = input_number()\n",
    "    z = input_number()\n",
    "    stat_func = input('input the stat function')\n",
    "    if stat_func == 'find_min':\n",
    "        return find_min(x,y,z)\n",
    "    elif stat_func == 'find_max':\n",
    "        return find_max(x,y,z)\n",
    "    elif stat_func == 'find_total':\n",
    "        return find_total(x,y,z)\n",
    "    else:\n",
    "        return find_average(x,y,z)"
   ]
  },
  {
   "cell_type": "code",
   "execution_count": 10,
   "metadata": {},
   "outputs": [
    {
     "name": "stdin",
     "output_type": "stream",
     "text": [
      "input a number 2\n",
      "input a number 3\n",
      "input a number 5\n",
      "input the stat function find_total\n"
     ]
    },
    {
     "data": {
      "text/plain": [
       "10"
      ]
     },
     "execution_count": 10,
     "metadata": {},
     "output_type": "execute_result"
    }
   ],
   "source": [
    "print_stats()"
   ]
  },
  {
   "cell_type": "code",
   "execution_count": 11,
   "metadata": {},
   "outputs": [
    {
     "name": "stdin",
     "output_type": "stream",
     "text": [
      "input a number 2\n",
      "input a number 3\n",
      "input a number 5\n",
      "input the stat function find_average\n"
     ]
    },
    {
     "data": {
      "text/plain": [
       "3.3333333333333335"
      ]
     },
     "execution_count": 11,
     "metadata": {},
     "output_type": "execute_result"
    }
   ],
   "source": [
    "print_stats()"
   ]
  },
  {
   "cell_type": "markdown",
   "metadata": {
    "id": "rXgbUIBRgQoG"
   },
   "source": [
    "### Task: Simple Calculator\n",
    "\n",
    "\n",
    "1.   Define a function that increment an integer x by 1, x is a parameter\n",
    "2.   Define a function that decrement an integer x by 1, x is a parameter\n",
    "3.   Define a function that computes *x* $+$ *y* by using functions defined above, where x and y are parameters and you cannot directly use x $+$ y in your definition.\n",
    "4.   Define a function that computes *x* $-$ *y* by using functions defined above, where x and y are parameters and you cannot directly use x $-$ y in your definition.\n",
    "5.   Define a function that computes *x* $\\times$ *y* by using functions defined above, where x and y are parameters and you cannot directly use x * y in your definition.\n",
    "6.   Define a function that computes *x* $**$ *y* by using functios defined above, where x and y are parameters and you cannot directly use *x* $**$ *y* in your definition\n",
    "7.   Define a function that takes two arguments, x and y, and print the addition (x $+$ y), substraction(x $-$ y), product(x $\\times$ y), and exponent(x**y) of these two arguments"
   ]
  },
  {
   "cell_type": "code",
   "execution_count": 24,
   "metadata": {
    "id": "oIKwmW2mfe3d"
   },
   "outputs": [],
   "source": [
    "def increment_by_1(x):\n",
    "    output = x + 1\n",
    "    return output\n",
    "\n",
    "def decrement_by_1(x):\n",
    "    return x - 1\n",
    "\n",
    "def sum_xy(x,y):\n",
    "    for i in range(y):\n",
    "        x = increment_by_1(x)\n",
    "    return x\n",
    "\n",
    "def minus_xy(x,y):\n",
    "    for i in range(y):\n",
    "        x = decrement_by_1(x)\n",
    "    return x\n",
    "\n",
    "def multiply_xy(x,y):\n",
    "    add_value_to_x = 0\n",
    "    for i in range(x):\n",
    "        add_value_to_x = increment_by_1(add_value_to_x)\n",
    "        if add_value_to_x == x:\n",
    "            break\n",
    "            \n",
    "    ## x + x + x (y times)\n",
    "    for i in range(y-1):\n",
    "        x += add_value_to_x\n",
    "    return x\n",
    "\n",
    "def power_xy(x,y):\n",
    "    add_value_to_x = 0\n",
    "    for i in range(x):\n",
    "        add_value_to_x = increment_by_1(add_value_to_x)\n",
    "        if add_value_to_x == x:\n",
    "            break\n",
    "            \n",
    "    ## x + x + x (y times)\n",
    "    for i in range(y-1):\n",
    "        x *= add_value_to_x\n",
    "    return x"
   ]
  },
  {
   "cell_type": "code",
   "execution_count": 14,
   "metadata": {},
   "outputs": [
    {
     "data": {
      "text/plain": [
       "10"
      ]
     },
     "execution_count": 14,
     "metadata": {},
     "output_type": "execute_result"
    }
   ],
   "source": [
    "multiply_xy(2,5)"
   ]
  },
  {
   "cell_type": "code",
   "execution_count": 26,
   "metadata": {},
   "outputs": [
    {
     "data": {
      "text/plain": [
       "8"
      ]
     },
     "execution_count": 26,
     "metadata": {},
     "output_type": "execute_result"
    }
   ],
   "source": [
    "power_xy(2,3)"
   ]
  },
  {
   "cell_type": "code",
   "execution_count": 28,
   "metadata": {},
   "outputs": [],
   "source": [
    "def all_calculation(x,y):\n",
    "    return sum_xy(x,y), minus_xy(x,y), multiply_xy(x,y), power_xy(x,y)"
   ]
  },
  {
   "cell_type": "code",
   "execution_count": 30,
   "metadata": {},
   "outputs": [
    {
     "data": {
      "text/plain": [
       "(6, -2, 8, 16)"
      ]
     },
     "execution_count": 30,
     "metadata": {},
     "output_type": "execute_result"
    }
   ],
   "source": [
    "all_calculation(2,4)"
   ]
  }
 ],
 "metadata": {
  "colab": {
   "authorship_tag": "ABX9TyMrgQxnO6jrk9WXy1GcSyBn",
   "collapsed_sections": [],
   "name": "M4Lab1.ipynb",
   "provenance": [],
   "toc_visible": true
  },
  "kernelspec": {
   "display_name": "Python 3 (ipykernel)",
   "language": "python",
   "name": "python3"
  },
  "language_info": {
   "codemirror_mode": {
    "name": "ipython",
    "version": 3
   },
   "file_extension": ".py",
   "mimetype": "text/x-python",
   "name": "python",
   "nbconvert_exporter": "python",
   "pygments_lexer": "ipython3",
   "version": "3.11.7"
  }
 },
 "nbformat": 4,
 "nbformat_minor": 4
}
