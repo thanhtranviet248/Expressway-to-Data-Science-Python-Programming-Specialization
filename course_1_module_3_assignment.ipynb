{
 "cells": [
  {
   "cell_type": "markdown",
   "id": "9679aefd-e2f9-44ae-b3da-80bf4e13e247",
   "metadata": {},
   "source": [
    "# What day is today?"
   ]
  },
  {
   "cell_type": "code",
   "execution_count": 9,
   "id": "1e0c2e53-4ce5-41c4-bead-e68be88a67ff",
   "metadata": {},
   "outputs": [
    {
     "name": "stdin",
     "output_type": "stream",
     "text": [
      "input the day today under integer form (1-7) 5\n"
     ]
    },
    {
     "name": "stdout",
     "output_type": "stream",
     "text": [
      "Fri\n"
     ]
    }
   ],
   "source": [
    "day = int(input('input the day today under integer form (1-7)'))\n",
    "\n",
    "if day == 1:\n",
    "    day_name = 'Mon'\n",
    "elif day == 2:\n",
    "    day_name = 'Tue'\n",
    "elif day == 3:\n",
    "    day_name = 'Wed'\n",
    "elif day == 4:\n",
    "    day_name = 'Thu'\n",
    "elif day == 5:\n",
    "    day_name = 'Fri'\n",
    "elif day == 6:\n",
    "    day_name = 'Sat'\n",
    "elif day == 7:\n",
    "    day_name = 'Sun'\n",
    "else:\n",
    "    print('error input')\n",
    "print(day_name)"
   ]
  },
  {
   "cell_type": "markdown",
   "id": "f6c91609-a084-4ae4-a91b-afcc7476b65d",
   "metadata": {},
   "source": [
    "# Tax Calculator"
   ]
  },
  {
   "cell_type": "code",
   "execution_count": 13,
   "id": "9a88d6ca-5c4f-4988-85be-0fc1a34978d9",
   "metadata": {},
   "outputs": [
    {
     "name": "stdin",
     "output_type": "stream",
     "text": [
      "please enter your gross income 700000\n"
     ]
    },
    {
     "name": "stdout",
     "output_type": "stream",
     "text": [
      "29000.0\n"
     ]
    }
   ],
   "source": [
    "gross_income = float(input('please enter your gross income'))\n",
    "if gross_income <= 100000:\n",
    "    tax = 0.01*gross_income\n",
    "elif gross_income <= 500000:\n",
    "    tax = 0.05*gross_income\n",
    "else:\n",
    "    tax = 0.05*500000 + (gross_income - 500000)*0.02\n",
    "print(tax)"
   ]
  },
  {
   "cell_type": "markdown",
   "id": "081c0e3e-45a5-4215-b6ea-51b01d2c325e",
   "metadata": {},
   "source": [
    "# A Simple Calculator"
   ]
  },
  {
   "cell_type": "code",
   "execution_count": 24,
   "id": "18e45b93-2648-41e3-bd3a-d26f3426246e",
   "metadata": {},
   "outputs": [
    {
     "name": "stdin",
     "output_type": "stream",
     "text": [
      "input x 2\n",
      "input y 3\n",
      "input operator *\n"
     ]
    },
    {
     "name": "stdout",
     "output_type": "stream",
     "text": [
      "x * y = 6.0\n"
     ]
    }
   ],
   "source": [
    "x = float(input('input x'))\n",
    "y = float(input('input y'))\n",
    "p = input('input operator')\n",
    "\n",
    "if p == '+':\n",
    "    print(f'x + y = {x+y}')\n",
    "elif p == '-':\n",
    "    print(f'x - y = {x-y}')\n",
    "elif p == '*':\n",
    "    print(f'x * y = {x*y}')\n",
    "else:\n",
    "    print(f'x / y = {x/y}')"
   ]
  },
  {
   "cell_type": "markdown",
   "id": "63a32db5-ec5f-4954-ac41-0138fc96d6b2",
   "metadata": {},
   "source": [
    "# Taxi Fare Calculator"
   ]
  },
  {
   "cell_type": "code",
   "execution_count": 41,
   "id": "150d45d0-d7a7-4617-a5db-d2929b0cd8b3",
   "metadata": {},
   "outputs": [
    {
     "name": "stdin",
     "output_type": "stream",
     "text": [
      "total miles:  30\n"
     ]
    },
    {
     "name": "stdout",
     "output_type": "stream",
     "text": [
      "35.0\n"
     ]
    }
   ],
   "source": [
    "miles = float(input('total miles: '))\n",
    "if miles <= 10:\n",
    "    fare = 5\n",
    "elif 10 <= miles <= 20:\n",
    "    fare = 5 + 1*(miles - 10)\n",
    "else:\n",
    "    fare = 5 + 1.5*(miles - 10)\n",
    "print(fare)"
   ]
  },
  {
   "cell_type": "markdown",
   "id": "8dda5457-d3b8-4359-be26-417acd4e8c34",
   "metadata": {},
   "source": [
    "# Flash Shipping Charges"
   ]
  },
  {
   "cell_type": "code",
   "execution_count": 47,
   "id": "9db30210-83f0-4305-bcd3-3bca7424c8eb",
   "metadata": {},
   "outputs": [
    {
     "name": "stdin",
     "output_type": "stream",
     "text": [
      "domestic or international delivery? international\n",
      "weight of the package 15\n"
     ]
    },
    {
     "name": "stdout",
     "output_type": "stream",
     "text": [
      " rate is 150.0\n"
     ]
    }
   ],
   "source": [
    "service = input('domestic or international delivery?')\n",
    "weight = float(input('weight of the package'))\n",
    "\n",
    "if service == 'domestic':\n",
    "    if weight <= 2:\n",
    "        rate = 1.5\n",
    "    elif weight <= 6:\n",
    "        rate = 2.5\n",
    "    elif weight <= 20:\n",
    "        rate = 3.5\n",
    "    else:\n",
    "        rate = 5\n",
    "else:\n",
    "    if weight <= 2:\n",
    "        rate = 5\n",
    "    elif weight <= 6:\n",
    "        rate = 7\n",
    "    elif weight <= 20:\n",
    "        rate = 10\n",
    "    else:\n",
    "        rate = 15\n",
    "print(f''' rate is {rate*weight}''')\n",
    "\n"
   ]
  }
 ],
 "metadata": {
  "kernelspec": {
   "display_name": "Python 3 (ipykernel)",
   "language": "python",
   "name": "python3"
  },
  "language_info": {
   "codemirror_mode": {
    "name": "ipython",
    "version": 3
   },
   "file_extension": ".py",
   "mimetype": "text/x-python",
   "name": "python",
   "nbconvert_exporter": "python",
   "pygments_lexer": "ipython3",
   "version": "3.11.7"
  }
 },
 "nbformat": 4,
 "nbformat_minor": 5
}
