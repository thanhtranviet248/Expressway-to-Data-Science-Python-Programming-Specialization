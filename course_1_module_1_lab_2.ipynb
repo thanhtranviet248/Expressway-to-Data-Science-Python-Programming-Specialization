{
 "cells": [
  {
   "cell_type": "markdown",
   "id": "10fd9d4f-751c-404e-a74a-2f45eae46133",
   "metadata": {},
   "source": [
    "# Ask for names"
   ]
  },
  {
   "cell_type": "code",
   "execution_count": 2,
   "id": "ace90ef4-dee1-4710-8559-a0ecff39a772",
   "metadata": {},
   "outputs": [
    {
     "name": "stdin",
     "output_type": "stream",
     "text": [
      "What's your name? Thanh\n"
     ]
    },
    {
     "name": "stdout",
     "output_type": "stream",
     "text": [
      "Thanh\n"
     ]
    }
   ],
   "source": [
    "print(input('What\\'s your name?'))"
   ]
  },
  {
   "cell_type": "code",
   "execution_count": 8,
   "id": "ecf470f4-10e4-4c56-a78f-c4edaadae250",
   "metadata": {},
   "outputs": [
    {
     "name": "stdin",
     "output_type": "stream",
     "text": [
      "How do you feel so far?\n",
      "Enter 1 for Good; 2 for very good\" 1\n"
     ]
    },
    {
     "name": "stdout",
     "output_type": "stream",
     "text": [
      "1\n"
     ]
    }
   ],
   "source": [
    "print(input('How do you feel so far?\\nEnter 1 for Good; 2 for very good\"'))"
   ]
  },
  {
   "cell_type": "code",
   "execution_count": 10,
   "id": "93df28e0-5966-47d9-86d6-e11218ff7186",
   "metadata": {},
   "outputs": [
    {
     "name": "stdin",
     "output_type": "stream",
     "text": [
      "Are you ready to learn more? Enter Yes or No Yes\n"
     ]
    },
    {
     "name": "stdout",
     "output_type": "stream",
     "text": [
      "Yes\n"
     ]
    }
   ],
   "source": [
    "print(input(\"Are you ready to learn more? Enter Yes or No\"))"
   ]
  },
  {
   "cell_type": "markdown",
   "id": "502a7ebd-6a56-4e44-8222-12e75cd9b08e",
   "metadata": {},
   "source": [
    "# Ask for numbers"
   ]
  },
  {
   "cell_type": "code",
   "execution_count": 13,
   "id": "1a3e2ae2-dc90-4cff-b4a7-7a967e19b47a",
   "metadata": {},
   "outputs": [
    {
     "name": "stdin",
     "output_type": "stream",
     "text": [
      "How old are you? 24\n"
     ]
    },
    {
     "name": "stdout",
     "output_type": "stream",
     "text": [
      "24\n"
     ]
    }
   ],
   "source": [
    "print(input(\"How old are you?\"))"
   ]
  },
  {
   "cell_type": "code",
   "execution_count": 15,
   "id": "c11ea291-4c81-4c40-8eb5-319699b99dff",
   "metadata": {},
   "outputs": [
    {
     "name": "stdin",
     "output_type": "stream",
     "text": [
      "Which number is your lucky number? 7\n"
     ]
    },
    {
     "name": "stdout",
     "output_type": "stream",
     "text": [
      "7\n"
     ]
    }
   ],
   "source": [
    "print(input(\"Which number is your lucky number?\"))"
   ]
  },
  {
   "cell_type": "code",
   "execution_count": 17,
   "id": "912f7048-9266-443d-9550-daf1d37945ef",
   "metadata": {},
   "outputs": [
    {
     "name": "stdin",
     "output_type": "stream",
     "text": [
      "What date is today? yyyymmdd 20240824\n"
     ]
    },
    {
     "name": "stdout",
     "output_type": "stream",
     "text": [
      "20240824\n"
     ]
    }
   ],
   "source": [
    "print(input(\"What date is today? yyyymmdd\"))"
   ]
  }
 ],
 "metadata": {
  "kernelspec": {
   "display_name": "Python 3 (ipykernel)",
   "language": "python",
   "name": "python3"
  },
  "language_info": {
   "codemirror_mode": {
    "name": "ipython",
    "version": 3
   },
   "file_extension": ".py",
   "mimetype": "text/x-python",
   "name": "python",
   "nbconvert_exporter": "python",
   "pygments_lexer": "ipython3",
   "version": "3.11.7"
  }
 },
 "nbformat": 4,
 "nbformat_minor": 5
}
