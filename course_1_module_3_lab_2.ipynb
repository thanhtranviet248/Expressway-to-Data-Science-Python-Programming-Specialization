{
 "cells": [
  {
   "cell_type": "code",
   "execution_count": 19,
   "id": "e1cb7f90-d7f0-4330-89c4-5b758d496b6f",
   "metadata": {},
   "outputs": [
    {
     "name": "stdin",
     "output_type": "stream",
     "text": [
      "what is the temperature now? 70\n"
     ]
    },
    {
     "name": "stdout",
     "output_type": "stream",
     "text": [
      "good\n"
     ]
    }
   ],
   "source": [
    "temp = float(input('what is the temperature now?'))\n",
    "\n",
    "def check_temp(temp):\n",
    "    if 60 <= temp <= 80:\n",
    "        print('good')\n",
    "    else:\n",
    "        print('not that good')\n",
    "\n",
    "check_temp(temp)"
   ]
  },
  {
   "cell_type": "code",
   "execution_count": 1,
   "id": "b017bc4d-59af-4974-a4af-02b3f30d3838",
   "metadata": {},
   "outputs": [
    {
     "name": "stdin",
     "output_type": "stream",
     "text": [
      "are you happy now? yes\n"
     ]
    },
    {
     "name": "stdout",
     "output_type": "stream",
     "text": [
      "perfect\n"
     ]
    }
   ],
   "source": [
    "answer = input('are you happy now?')\n",
    "\n",
    "def happy_check(answer):\n",
    "    if answer == 'yes':\n",
    "        print('perfect')\n",
    "    else:\n",
    "        print('how can i help?')\n",
    "\n",
    "happy_check(answer)"
   ]
  },
  {
   "cell_type": "code",
   "execution_count": 7,
   "id": "ee15de59-1114-48f0-8aab-c8bab050b368",
   "metadata": {},
   "outputs": [
    {
     "name": "stdin",
     "output_type": "stream",
     "text": [
      "level of moisture of the soil (1: super dry, 10: super wet) 5\n"
     ]
    },
    {
     "name": "stdout",
     "output_type": "stream",
     "text": [
      "no, wait for the soil to be dryer\n"
     ]
    }
   ],
   "source": [
    "input_data = int(input('level of moisture of the soil (1: super dry, 10: super wet)'))\n",
    "\n",
    "def moi_check(input_data):\n",
    "    if input_data < 3:\n",
    "        print('yes, you should water your plant now')\n",
    "    else:\n",
    "        print('no, wait for the soil to be dryer')\n",
    "\n",
    "moi_check(input_data)"
   ]
  },
  {
   "cell_type": "code",
   "execution_count": 17,
   "id": "ac6d36cf-97a0-4c19-aa4a-6f22eda01074",
   "metadata": {},
   "outputs": [
    {
     "name": "stdin",
     "output_type": "stream",
     "text": [
      "Do you care about your learning outcome? Yes\n",
      "Have you finished M3Lab2? No\n"
     ]
    },
    {
     "name": "stdout",
     "output_type": "stream",
     "text": [
      "Get it done ASAP\n"
     ]
    }
   ],
   "source": [
    "answer = input('Do you care about your learning outcome?')\n",
    "\n",
    "def check_exercise(answer):\n",
    "    if answer == 'Yes':\n",
    "        if input('Have you finished M3Lab2?') == 'Yes':\n",
    "            print('Good job')\n",
    "        else:\n",
    "            print('Get it done ASAP')\n",
    "    else:\n",
    "        print('As long as you are happy')\n",
    "\n",
    "check_exercise(answer)"
   ]
  }
 ],
 "metadata": {
  "kernelspec": {
   "display_name": "Python 3 (ipykernel)",
   "language": "python",
   "name": "python3"
  },
  "language_info": {
   "codemirror_mode": {
    "name": "ipython",
    "version": 3
   },
   "file_extension": ".py",
   "mimetype": "text/x-python",
   "name": "python",
   "nbconvert_exporter": "python",
   "pygments_lexer": "ipython3",
   "version": "3.11.7"
  }
 },
 "nbformat": 4,
 "nbformat_minor": 5
}
