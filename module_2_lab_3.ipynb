{
 "cells": [
  {
   "cell_type": "markdown",
   "id": "9114e0fe-3619-4889-971b-4a2b49a919b6",
   "metadata": {},
   "source": [
    "# Relational Operation"
   ]
  },
  {
   "cell_type": "code",
   "execution_count": 2,
   "id": "ddceff47-abd2-478f-b0e6-326ec8628b34",
   "metadata": {},
   "outputs": [
    {
     "name": "stdout",
     "output_type": "stream",
     "text": [
      "\n",
      "x > y = False,\n",
      "x >= y = False,\n",
      "x == y = False,\n",
      "x <= y = True,\n",
      "x < y = True,\n",
      "x != y = True\n",
      "\n"
     ]
    }
   ],
   "source": [
    "x = 2\n",
    "y = 3\n",
    "\n",
    "print(f'''\n",
    "x > y = {x>y},\n",
    "x >= y = {x>=y},\n",
    "x == y = {x==y},\n",
    "x <= y = {x<=y},\n",
    "x < y = {x<y},\n",
    "x != y = {x!=y}\n",
    "''')"
   ]
  },
  {
   "cell_type": "code",
   "execution_count": 4,
   "id": "a2896c11-d4f2-4514-9859-13fea4a0f6a1",
   "metadata": {},
   "outputs": [
    {
     "name": "stdin",
     "output_type": "stream",
     "text": [
      "x and y are? Please input integer and split by comma 2,3\n"
     ]
    },
    {
     "name": "stdout",
     "output_type": "stream",
     "text": [
      "\n",
      "x > y = False,\n",
      "x >= y = False,\n",
      "x == y = False,\n",
      "x <= y = True,\n",
      "x < y = True,\n",
      "x != y = True\n",
      "\n"
     ]
    }
   ],
   "source": [
    "x, y = input('x and y are? Please input integer and split by comma').split(',')\n",
    "x, y = int(x), int(y)\n",
    "\n",
    "print(f'''\n",
    "x > y = {x>y},\n",
    "x >= y = {x>=y},\n",
    "x == y = {x==y},\n",
    "x <= y = {x<=y},\n",
    "x < y = {x<y},\n",
    "x != y = {x!=y}\n",
    "''')"
   ]
  },
  {
   "cell_type": "markdown",
   "id": "2ead3e7d-1e1a-421f-b9e6-5e78b199c054",
   "metadata": {},
   "source": [
    "# Logical Operation\n"
   ]
  },
  {
   "cell_type": "code",
   "execution_count": 7,
   "id": "c4a0f964-08d1-4ad7-b091-4abe00294868",
   "metadata": {},
   "outputs": [
    {
     "name": "stdout",
     "output_type": "stream",
     "text": [
      "\n",
      "x and x = True,\n",
      "x and y = False,\n",
      "y and x = False,\n",
      "y and y = False,\n",
      "x or x = True,\n",
      "x or y = True,\n",
      "y or x = True,\n",
      "not x = False,\n",
      "not y = True\n",
      "\n"
     ]
    }
   ],
   "source": [
    "x, y = True, False\n",
    "\n",
    "print(f'''\n",
    "x and x = {x and x},\n",
    "x and y = {x and y},\n",
    "y and x = {y and x},\n",
    "y and y = {y and y},\n",
    "x or x = {x or x},\n",
    "x or y = {x or y},\n",
    "y or x = {x or x},\n",
    "not x = {not x},\n",
    "not y = {not y}\n",
    "''')"
   ]
  },
  {
   "cell_type": "code",
   "execution_count": null,
   "id": "3ed646aa-57c5-4d86-8dcd-2c76f9b427a1",
   "metadata": {},
   "outputs": [],
   "source": [
    "###TaskB Get some computation3\n",
    "J3 Assign x with True@ y with False3\n",
    "K3 print out the computation and result of\n",
    "L3 x and x\n",
    "N3 x and y\n",
    "P3 y and x\n",
    "Q3 y and y\n",
    "S3 x or x\n",
    "T3 x or y\n",
    "^3 y or x\n",
    "J]3 y or y\n",
    "JJ3 not x\n",
    "JK3 not y"
   ]
  }
 ],
 "metadata": {
  "kernelspec": {
   "display_name": "Python 3 (ipykernel)",
   "language": "python",
   "name": "python3"
  },
  "language_info": {
   "codemirror_mode": {
    "name": "ipython",
    "version": 3
   },
   "file_extension": ".py",
   "mimetype": "text/x-python",
   "name": "python",
   "nbconvert_exporter": "python",
   "pygments_lexer": "ipython3",
   "version": "3.11.7"
  }
 },
 "nbformat": 4,
 "nbformat_minor": 5
}
