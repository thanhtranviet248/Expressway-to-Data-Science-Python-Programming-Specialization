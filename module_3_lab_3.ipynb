{
 "cells": [
  {
   "cell_type": "code",
   "execution_count": 3,
   "id": "4d86cf0c-f660-485f-8f72-5e162f5b15c9",
   "metadata": {},
   "outputs": [
    {
     "name": "stdin",
     "output_type": "stream",
     "text": [
      "please input a number -100\n"
     ]
    },
    {
     "name": "stdout",
     "output_type": "stream",
     "text": [
      "negative\n"
     ]
    }
   ],
   "source": [
    "input_1 = float(input('please input a number'))\n",
    "\n",
    "if input_1 > 0:\n",
    "    print('positive')\n",
    "elif input_1 < 0:\n",
    "    print('negative')\n",
    "else:\n",
    "    print('0')"
   ]
  },
  {
   "cell_type": "code",
   "execution_count": 25,
   "id": "a9fb6172-052a-4ad7-8cd7-afdd08167f06",
   "metadata": {},
   "outputs": [
    {
     "name": "stdin",
     "output_type": "stream",
     "text": [
      "please input the month under integer number 9\n"
     ]
    },
    {
     "name": "stdout",
     "output_type": "stream",
     "text": [
      "there are 30 days in this month\n"
     ]
    }
   ],
   "source": [
    "input_2 = int(input('please input the month under integer number'))\n",
    "\n",
    "if input_2 == 1 or input_2 == 3 or input_2 == 5 or input_2 == 7 or input_2 == 8 or input_2 == 10 or input_2 == 12:\n",
    "    print('there are 31 days in this month')\n",
    "elif input_2 == 2:\n",
    "    print('there are 28 or 29 days in this month')\n",
    "else:\n",
    "    print('there are 30 days in this month')"
   ]
  },
  {
   "cell_type": "code",
   "execution_count": 33,
   "id": "b1b0d253-9cd8-4eb2-86e0-3f4dfb6e656c",
   "metadata": {},
   "outputs": [
    {
     "name": "stdin",
     "output_type": "stream",
     "text": [
      "input the parking time 3.5\n"
     ]
    },
    {
     "name": "stdout",
     "output_type": "stream",
     "text": [
      "you parking fee is 27.5\n"
     ]
    }
   ],
   "source": [
    "input_3 = float(input('input the parking time'))\n",
    "\n",
    "if input_3 <= 0.5:\n",
    "    print('you parking fee is 5')\n",
    "elif input_3 <= 1:\n",
    "    print(f'you parking fee is {5+15}')\n",
    "else:\n",
    "    print(f'you parking fee is {5+15+(input_3-2)*5}')"
   ]
  },
  {
   "cell_type": "code",
   "execution_count": 35,
   "id": "7b5eec31-7f7b-4c8f-a101-83217c664ebd",
   "metadata": {},
   "outputs": [
    {
     "name": "stdin",
     "output_type": "stream",
     "text": [
      "enter your age 40\n"
     ]
    },
    {
     "name": "stdout",
     "output_type": "stream",
     "text": [
      "adult\n"
     ]
    }
   ],
   "source": [
    "input_4 = int(input('enter your age'))\n",
    "\n",
    "if input_4 <= 1:\n",
    "    print('infant')\n",
    "elif input_4 <= 13:\n",
    "    print('child')\n",
    "elif input_4 <= 20:\n",
    "    print('teenager')\n",
    "elif input_4 <= 65:\n",
    "    print('adult')\n",
    "else:\n",
    "    print('senior')"
   ]
  }
 ],
 "metadata": {
  "kernelspec": {
   "display_name": "Python 3 (ipykernel)",
   "language": "python",
   "name": "python3"
  },
  "language_info": {
   "codemirror_mode": {
    "name": "ipython",
    "version": 3
   },
   "file_extension": ".py",
   "mimetype": "text/x-python",
   "name": "python",
   "nbconvert_exporter": "python",
   "pygments_lexer": "ipython3",
   "version": "3.11.7"
  }
 },
 "nbformat": 4,
 "nbformat_minor": 5
}
